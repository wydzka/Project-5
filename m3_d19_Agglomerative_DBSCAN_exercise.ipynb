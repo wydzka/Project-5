{
 "cells": [
  {
   "cell_type": "markdown",
   "metadata": {},
   "source": [
    "## **Latihan Agglomerative Clustering  & DBScan**\n",
    "\n",
    "Dataset: \"Mall_Customers.csv\"\n",
    "\n",
    "- Lakukan EDA untuk memahami dataset.\n",
    "- Jelaskan mengenai insight yang didapat dari EDA!\n",
    "<br><br>\n",
    "- Untuk clustering, drop saja feature 'CustomerID' dan 'Gender'. Dari 3 feature terisisa, pilih kombinasi 2 feature terbaik yang selanjutnya akan digunakan untuk clustering.\n",
    "- Lakukan scaling menggunakan StandardScaler, lalu gunakan metode K-Means, Agglomerative clustering, dan DBScan. Cari jumlah cluster paling optimal untuk tiap metode.\n",
    "<br><br>\n",
    "- Bandingkan hasil dari ketiga metode yang sudah dicoba, manakah metode yang terbaik? \n",
    "- Interpretasikan hasil clustering-nya!"
   ]
  },
  {
   "cell_type": "markdown",
   "metadata": {},
   "source": [
    "## **Import libraries**"
   ]
  },
  {
   "cell_type": "code",
   "execution_count": 1,
   "metadata": {},
   "outputs": [],
   "source": [
    "import numpy as np \n",
    "import pandas as pd \n",
    "import seaborn as sns \n",
    "import matplotlib.pyplot as plt \n",
    "\n",
    "from sklearn.preprocessing import StandardScaler\n",
    "from sklearn.metrics import silhouette_score\n",
    "\n",
    "from sklearn.cluster import KMeans\n",
    "from sklearn.cluster import AgglomerativeClustering, DBSCAN\n",
    "from scipy.cluster.hierarchy import dendrogram, ward, complete, average\n",
    "\n",
    "import warnings\n",
    "warnings.filterwarnings('ignore')"
   ]
  },
  {
   "cell_type": "markdown",
   "metadata": {},
   "source": [
    "## **Load & explore dataset**"
   ]
  },
  {
   "cell_type": "code",
   "execution_count": 2,
   "metadata": {},
   "outputs": [
    {
     "data": {
      "text/html": [
       "<div>\n",
       "<style scoped>\n",
       "    .dataframe tbody tr th:only-of-type {\n",
       "        vertical-align: middle;\n",
       "    }\n",
       "\n",
       "    .dataframe tbody tr th {\n",
       "        vertical-align: top;\n",
       "    }\n",
       "\n",
       "    .dataframe thead th {\n",
       "        text-align: right;\n",
       "    }\n",
       "</style>\n",
       "<table border=\"1\" class=\"dataframe\">\n",
       "  <thead>\n",
       "    <tr style=\"text-align: right;\">\n",
       "      <th></th>\n",
       "      <th>CustomerID</th>\n",
       "      <th>Gender</th>\n",
       "      <th>Age</th>\n",
       "      <th>Annual Income (k$)</th>\n",
       "      <th>Spending Score (1-100)</th>\n",
       "    </tr>\n",
       "  </thead>\n",
       "  <tbody>\n",
       "    <tr>\n",
       "      <th>0</th>\n",
       "      <td>1</td>\n",
       "      <td>Male</td>\n",
       "      <td>19</td>\n",
       "      <td>15</td>\n",
       "      <td>39</td>\n",
       "    </tr>\n",
       "    <tr>\n",
       "      <th>1</th>\n",
       "      <td>2</td>\n",
       "      <td>Male</td>\n",
       "      <td>21</td>\n",
       "      <td>15</td>\n",
       "      <td>81</td>\n",
       "    </tr>\n",
       "    <tr>\n",
       "      <th>2</th>\n",
       "      <td>3</td>\n",
       "      <td>Female</td>\n",
       "      <td>20</td>\n",
       "      <td>16</td>\n",
       "      <td>6</td>\n",
       "    </tr>\n",
       "    <tr>\n",
       "      <th>3</th>\n",
       "      <td>4</td>\n",
       "      <td>Female</td>\n",
       "      <td>23</td>\n",
       "      <td>16</td>\n",
       "      <td>77</td>\n",
       "    </tr>\n",
       "    <tr>\n",
       "      <th>4</th>\n",
       "      <td>5</td>\n",
       "      <td>Female</td>\n",
       "      <td>31</td>\n",
       "      <td>17</td>\n",
       "      <td>40</td>\n",
       "    </tr>\n",
       "  </tbody>\n",
       "</table>\n",
       "</div>"
      ],
      "text/plain": [
       "   CustomerID  Gender  Age  Annual Income (k$)  Spending Score (1-100)\n",
       "0           1    Male   19                  15                      39\n",
       "1           2    Male   21                  15                      81\n",
       "2           3  Female   20                  16                       6\n",
       "3           4  Female   23                  16                      77\n",
       "4           5  Female   31                  17                      40"
      ]
     },
     "execution_count": 2,
     "metadata": {},
     "output_type": "execute_result"
    }
   ],
   "source": [
    "df = pd.read_csv('Mall_Customers.csv')\n",
    "df.head()"
   ]
  },
  {
   "cell_type": "code",
   "execution_count": 3,
   "metadata": {},
   "outputs": [],
   "source": [
    "# Rename columns\n",
    "df = df.rename(columns={'Spending Score (1-100)': 'Spending Score',\n",
    "        'Annual Income (k$)': 'Annual Income'})"
   ]
  },
  {
   "cell_type": "code",
   "execution_count": 4,
   "metadata": {},
   "outputs": [],
   "source": [
    "# Drop customerID column\n",
    "df.drop('CustomerID', axis=1, inplace=True)"
   ]
  },
  {
   "cell_type": "code",
   "execution_count": 5,
   "metadata": {},
   "outputs": [
    {
     "name": "stdout",
     "output_type": "stream",
     "text": [
      "<class 'pandas.core.frame.DataFrame'>\n",
      "RangeIndex: 200 entries, 0 to 199\n",
      "Data columns (total 4 columns):\n",
      " #   Column          Non-Null Count  Dtype \n",
      "---  ------          --------------  ----- \n",
      " 0   Gender          200 non-null    object\n",
      " 1   Age             200 non-null    int64 \n",
      " 2   Annual Income   200 non-null    int64 \n",
      " 3   Spending Score  200 non-null    int64 \n",
      "dtypes: int64(3), object(1)\n",
      "memory usage: 6.4+ KB\n"
     ]
    }
   ],
   "source": [
    "df.info()"
   ]
  },
  {
   "cell_type": "code",
   "execution_count": 6,
   "metadata": {},
   "outputs": [
    {
     "data": {
      "text/html": [
       "<div>\n",
       "<style scoped>\n",
       "    .dataframe tbody tr th:only-of-type {\n",
       "        vertical-align: middle;\n",
       "    }\n",
       "\n",
       "    .dataframe tbody tr th {\n",
       "        vertical-align: top;\n",
       "    }\n",
       "\n",
       "    .dataframe thead th {\n",
       "        text-align: right;\n",
       "    }\n",
       "</style>\n",
       "<table border=\"1\" class=\"dataframe\">\n",
       "  <thead>\n",
       "    <tr style=\"text-align: right;\">\n",
       "      <th></th>\n",
       "      <th>Age</th>\n",
       "      <th>Annual Income</th>\n",
       "      <th>Spending Score</th>\n",
       "    </tr>\n",
       "  </thead>\n",
       "  <tbody>\n",
       "    <tr>\n",
       "      <th>count</th>\n",
       "      <td>200.000000</td>\n",
       "      <td>200.000000</td>\n",
       "      <td>200.000000</td>\n",
       "    </tr>\n",
       "    <tr>\n",
       "      <th>mean</th>\n",
       "      <td>38.850000</td>\n",
       "      <td>60.560000</td>\n",
       "      <td>50.200000</td>\n",
       "    </tr>\n",
       "    <tr>\n",
       "      <th>std</th>\n",
       "      <td>13.969007</td>\n",
       "      <td>26.264721</td>\n",
       "      <td>25.823522</td>\n",
       "    </tr>\n",
       "    <tr>\n",
       "      <th>min</th>\n",
       "      <td>18.000000</td>\n",
       "      <td>15.000000</td>\n",
       "      <td>1.000000</td>\n",
       "    </tr>\n",
       "    <tr>\n",
       "      <th>25%</th>\n",
       "      <td>28.750000</td>\n",
       "      <td>41.500000</td>\n",
       "      <td>34.750000</td>\n",
       "    </tr>\n",
       "    <tr>\n",
       "      <th>50%</th>\n",
       "      <td>36.000000</td>\n",
       "      <td>61.500000</td>\n",
       "      <td>50.000000</td>\n",
       "    </tr>\n",
       "    <tr>\n",
       "      <th>75%</th>\n",
       "      <td>49.000000</td>\n",
       "      <td>78.000000</td>\n",
       "      <td>73.000000</td>\n",
       "    </tr>\n",
       "    <tr>\n",
       "      <th>max</th>\n",
       "      <td>70.000000</td>\n",
       "      <td>137.000000</td>\n",
       "      <td>99.000000</td>\n",
       "    </tr>\n",
       "  </tbody>\n",
       "</table>\n",
       "</div>"
      ],
      "text/plain": [
       "              Age  Annual Income  Spending Score\n",
       "count  200.000000     200.000000      200.000000\n",
       "mean    38.850000      60.560000       50.200000\n",
       "std     13.969007      26.264721       25.823522\n",
       "min     18.000000      15.000000        1.000000\n",
       "25%     28.750000      41.500000       34.750000\n",
       "50%     36.000000      61.500000       50.000000\n",
       "75%     49.000000      78.000000       73.000000\n",
       "max     70.000000     137.000000       99.000000"
      ]
     },
     "execution_count": 6,
     "metadata": {},
     "output_type": "execute_result"
    }
   ],
   "source": [
    "df.describe()"
   ]
  },
  {
   "cell_type": "code",
   "execution_count": 7,
   "metadata": {},
   "outputs": [
    {
     "data": {
      "text/plain": [
       "Gender            0\n",
       "Age               0\n",
       "Annual Income     0\n",
       "Spending Score    0\n",
       "dtype: int64"
      ]
     },
     "execution_count": 7,
     "metadata": {},
     "output_type": "execute_result"
    }
   ],
   "source": [
    "df.isna().sum()"
   ]
  },
  {
   "cell_type": "markdown",
   "metadata": {},
   "source": [
    "## **EDA**"
   ]
  },
  {
   "cell_type": "code",
   "execution_count": 8,
   "metadata": {},
   "outputs": [],
   "source": [
    "SMALL_SIZE = 10\n",
    "MEDIUM_SIZE = 12\n",
    "BIGGER_SIZE = 20\n",
    "\n",
    "plt.rc('font', size=BIGGER_SIZE)          # controls default text sizes\n",
    "plt.rc('axes', titlesize=SMALL_SIZE)     # fontsize of the axes title\n",
    "plt.rc('axes', labelsize=MEDIUM_SIZE)    # fontsize of the x and y labels\n",
    "plt.rc('xtick', labelsize=MEDIUM_SIZE)    # fontsize of the tick labels\n",
    "plt.rc('ytick', labelsize=MEDIUM_SIZE)    # fontsize of the tick labels\n",
    "plt.rc('legend', fontsize=SMALL_SIZE)    # legend fontsize\n",
    "plt.rc('figure', titlesize=BIGGER_SIZE)  # fontsize of the figure title"
   ]
  },
  {
   "cell_type": "code",
   "execution_count": 9,
   "metadata": {},
   "outputs": [
    {
     "data": {
      "image/png": "[encoded data removed]",
      "text/plain": [
       "<Figure size 1008x288 with 1 Axes>"
      ]
     },
     "metadata": {
      "needs_background": "light"
     },
     "output_type": "display_data"
    }
   ],
   "source": [
    "plt.figure(figsize=(14, 4))\n",
    "sns.countplot(df['Age'], palette = 'viridis')\n",
    "plt.title('Distribution of Age');"
   ]
  },
  {
   "cell_type": "code",
   "execution_count": 10,
   "metadata": {},
   "outputs": [
    {
     "data": {
      "image/png": "[encoded data removed]",
      "text/plain": [
       "<Figure size 216x216 with 1 Axes>"
      ]
     },
     "metadata": {
      "needs_background": "light"
     },
     "output_type": "display_data"
    }
   ],
   "source": [
    "plt.figure(figsize=(3, 3))\n",
    "sns.countplot(df['Gender'], palette = 'viridis')\n",
    "plt.title('Distribution of Gender');"
   ]
  },
  {
   "cell_type": "code",
   "execution_count": 11,
   "metadata": {},
   "outputs": [
    {
     "data": {
      "text/plain": [
       "Female    56.0\n",
       "Male      44.0\n",
       "Name: Gender, dtype: float64"
      ]
     },
     "execution_count": 11,
     "metadata": {},
     "output_type": "execute_result"
    }
   ],
   "source": [
    "df['Gender'].value_counts()/df.shape[0]*100"
   ]
  },
  {
   "cell_type": "code",
   "execution_count": 12,
   "metadata": {},
   "outputs": [
    {
     "data": {
      "image/png": "[encoded data removed]",
      "text/plain": [
       "<Figure size 864x288 with 2 Axes>"
      ]
     },
     "metadata": {
      "needs_background": "light"
     },
     "output_type": "display_data"
    }
   ],
   "source": [
    "plt.figure(figsize=(12, 4))\n",
    "\n",
    "plt.subplot(1, 2, 1)\n",
    "sns.distplot(df['Annual Income'])\n",
    "plt.title('Distribution of Annual Income (k$)', fontsize = 15)\n",
    "plt.xlabel('Range of Annual Income')\n",
    "plt.ylabel('Count')\n",
    "\n",
    "\n",
    "plt.subplot(1, 2, 2)\n",
    "sns.distplot(df['Age'], color = 'red')\n",
    "plt.title('Distribution of Age', fontsize = 15)\n",
    "plt.xlabel('Range of Age')\n",
    "plt.ylabel('Count')\n",
    "plt.tight_layout();"
   ]
  },
  {
   "cell_type": "code",
   "execution_count": 13,
   "metadata": {},
   "outputs": [
    {
     "data": {
      "image/png": "[encoded data removed]",
      "text/plain": [
       "<Figure size 1440x288 with 1 Axes>"
      ]
     },
     "metadata": {
      "needs_background": "light"
     },
     "output_type": "display_data"
    }
   ],
   "source": [
    "plt.figure(figsize=(20, 4))\n",
    "sns.countplot(x='Annual Income', data=df, palette='viridis')\n",
    "plt.title('Distribution of Annual Income (k$)', fontsize = 15);"
   ]
  },
  {
   "cell_type": "code",
   "execution_count": 14,
   "metadata": {},
   "outputs": [
    {
     "data": {
      "image/png": "[encoded data removed]",
      "text/plain": [
       "<Figure size 1440x288 with 1 Axes>"
      ]
     },
     "metadata": {
      "needs_background": "light"
     },
     "output_type": "display_data"
    }
   ],
   "source": [
    "plt.figure(figsize=(20, 4))\n",
    "sns.countplot(x='Spending Score', data=df, palette='viridis')\n",
    "plt.title('Spending Score (1-100)', fontsize = 15);"
   ]
  },
  {
   "cell_type": "markdown",
   "metadata": {},
   "source": [
    "### **Age vs Annual Income**"
   ]
  },
  {
   "cell_type": "code",
   "execution_count": 15,
   "metadata": {},
   "outputs": [
    {
     "data": {
      "image/png": "[encoded data removed]",
      "text/plain": [
       "<Figure size 360x360 with 1 Axes>"
      ]
     },
     "metadata": {
      "needs_background": "light"
     },
     "output_type": "display_data"
    }
   ],
   "source": [
    "plt.figure(figsize = (5, 5))\n",
    "# sns.set_context(context = 'notebook', font_scale=2)\n",
    "sns.scatterplot(\n",
    "    x = 'Age', \n",
    "    y = 'Annual Income', \n",
    "    data = df)\n",
    "\n",
    "plt.xlabel('Age')\n",
    "plt.ylabel('Annual Income (k$)');"
   ]
  },
  {
   "cell_type": "markdown",
   "metadata": {},
   "source": [
    "### **Age vs Spending Score**"
   ]
  },
  {
   "cell_type": "code",
   "execution_count": 16,
   "metadata": {},
   "outputs": [
    {
     "data": {
      "image/png": "[encoded data removed]",
      "text/plain": [
       "<Figure size 360x360 with 1 Axes>"
      ]
     },
     "metadata": {
      "needs_background": "light"
     },
     "output_type": "display_data"
    }
   ],
   "source": [
    "plt.figure(figsize = (5, 5))\n",
    "# sns.set_context(context = 'notebook', font_scale=2)\n",
    "sns.scatterplot(\n",
    "    x = 'Age', \n",
    "    y = 'Spending Score', \n",
    "    data = df)\n",
    "\n",
    "plt.xlabel('Age')\n",
    "plt.ylabel('Spending Score (1-100)');"
   ]
  },
  {
   "cell_type": "markdown",
   "metadata": {},
   "source": [
    "### **Annual Income vs Spending Score**"
   ]
  },
  {
   "cell_type": "code",
   "execution_count": 17,
   "metadata": {},
   "outputs": [
    {
     "data": {
      "image/png": "[encoded data removed]",
      "text/plain": [
       "<Figure size 360x360 with 1 Axes>"
      ]
     },
     "metadata": {
      "needs_background": "light"
     },
     "output_type": "display_data"
    }
   ],
   "source": [
    "plt.figure(figsize = (5, 5))\n",
    "# sns.set_context(context = 'notebook', font_scale=2)\n",
    "sns.scatterplot(\n",
    "    x = 'Annual Income', \n",
    "    y = 'Spending Score', \n",
    "    data = df)\n",
    "\n",
    "plt.xlabel('Annual Income (k$)')\n",
    "plt.ylabel('Spending Score (1-100)');"
   ]
  },
  {
   "cell_type": "code",
   "execution_count": 18,
   "metadata": {},
   "outputs": [],
   "source": [
    "import plotly.express as px\n",
    "import plotly.graph_objects as go"
   ]
  },
  {
   "cell_type": "code",
   "execution_count": 19,
   "metadata": {},
   "outputs": [
    {
     "data": {
      "application/vnd.plotly.v1+json": {
       "config": {
        "plotlyServerURL": "https://plot.ly"
       },
       "data": [
        {
         "hovertemplate": "Annual Income=%{x}<br>Spending Score=%{y}<br>Age=%{z}<extra></extra>",
         "legendgroup": "",
         "marker": {
          "color": "#636efa",
          "size": 2,
          "symbol": "circle"
         },
         "mode": "markers",
         "name": "",
         "scene": "scene",
         "showlegend": false,
         "type": "scatter3d",
         "x": [
          15,
          15,
          16,
          16,
          17,
          17,
          18,
          18,
          19,
          19,
          19,
          19,
          20,
          20,
          20,
          20,
          21,
          21,
          23,
          23,
          24,
          24,
          25,
          25,
          28,
          28,
          28,
          28,
          29,
          29,
          30,
          30,
          33,
          33,
          33,
          33,
          34,
          34,
          37,
          37,
          38,
          38,
          39,
          39,
          39,
          39,
          40,
          40,
          40,
          40,
          42,
          42,
          43,
          43,
          43,
          43,
          44,
          44,
          46,
          46,
          46,
          46,
          47,
          47,
          48,
          48,
          48,
          48,
          48,
          48,
          49,
          49,
          50,
          50,
          54,
          54,
          54,
          54,
          54,
          54,
          54,
          54,
          54,
          54,
          54,
          54,
          57,
          57,
          58,
          58,
          59,
          59,
          60,
          60,
          60,
          60,
          60,
          60,
          61,
          61,
          62,
          62,
          62,
          62,
          62,
          62,
          63,
          63,
          63,
          63,
          63,
          63,
          64,
          64,
          65,
          65,
          65,
          65,
          67,
          67,
          67,
          67,
          69,
          69,
          70,
          70,
          71,
          71,
          71,
          71,
          71,
          71,
          72,
          72,
          73,
          73,
          73,
          73,
          74,
          74,
          75,
          75,
          76,
          76,
          77,
          77,
          77,
          77,
          78,
          78,
          78,
          78,
          78,
          78,
          78,
          78,
          78,
          78,
          78,
          78,
          79,
          79,
          81,
          81,
          85,
          85,
          86,
          86,
          87,
          87,
          87,
          87,
          87,
          87,
          88,
          88,
          88,
          88,
          93,
          93,
          97,
          97,
          98,
          98,
          99,
          99,
          101,
          101,
          103,
          103,
          103,
          103,
          113,
          113,
          120,
          120,
          126,
          126,
          137,
          137
         ],
         "y": [
          39,
          81,
          6,
          77,
          40,
          76,
          6,
          94,
          3,
          72,
          14,
          99,
          15,
          77,
          13,
          79,
          35,
          66,
          29,
          98,
          35,
          73,
          5,
          73,
          14,
          82,
          32,
          61,
          31,
          87,
          4,
          73,
          4,
          92,
          14,
          81,
          17,
          73,
          26,
          75,
          35,
          92,
          36,
          61,
          28,
          65,
          55,
          47,
          42,
          42,
          52,
          60,
          54,
          60,
          45,
          41,
          50,
          46,
          51,
          46,
          56,
          55,
          52,
          59,
          51,
          59,
          50,
          48,
          59,
          47,
          55,
          42,
          49,
          56,
          47,
          54,
          53,
          48,
          52,
          42,
          51,
          55,
          41,
          44,
          57,
          46,
          58,
          55,
          60,
          46,
          55,
          41,
          49,
          40,
          42,
          52,
          47,
          50,
          42,
          49,
          41,
          48,
          59,
          55,
          56,
          42,
          50,
          46,
          43,
          48,
          52,
          54,
          42,
          46,
          48,
          50,
          43,
          59,
          43,
          57,
          56,
          40,
          58,
          91,
          29,
          77,
          35,
          95,
          11,
          75,
          9,
          75,
          34,
          71,
          5,
          88,
          7,
          73,
          10,
          72,
          5,
          93,
          40,
          87,
          12,
          97,
          36,
          74,
          22,
          90,
          17,
          88,
          20,
          76,
          16,
          89,
          1,
          78,
          1,
          73,
          35,
          83,
          5,
          93,
          26,
          75,
          20,
          95,
          27,
          63,
          13,
          75,
          10,
          92,
          13,
          86,
          15,
          69,
          14,
          90,
          32,
          86,
          15,
          88,
          39,
          97,
          24,
          68,
          17,
          85,
          23,
          69,
          8,
          91,
          16,
          79,
          28,
          74,
          18,
          83
         ],
         "z": [
          19,
          21,
          20,
          23,
          31,
          22,
          35,
          23,
          64,
          30,
          67,
          35,
          58,
          24,
          37,
          22,
          35,
          20,
          52,
          35,
          35,
          25,
          46,
          31,
          54,
          29,
          45,
          35,
          40,
          23,
          60,
          21,
          53,
          18,
          49,
          21,
          42,
          30,
          36,
          20,
          65,
          24,
          48,
          31,
          49,
          24,
          50,
          27,
          29,
          31,
          49,
          33,
          31,
          59,
          50,
          47,
          51,
          69,
          27,
          53,
          70,
          19,
          67,
          54,
          63,
          18,
          43,
          68,
          19,
          32,
          70,
          47,
          60,
          60,
          59,
          26,
          45,
          40,
          23,
          49,
          57,
          38,
          67,
          46,
          21,
          48,
          55,
          22,
          34,
          50,
          68,
          18,
          48,
          40,
          32,
          24,
          47,
          27,
          48,
          20,
          23,
          49,
          67,
          26,
          49,
          21,
          66,
          54,
          68,
          66,
          65,
          19,
          38,
          19,
          18,
          19,
          63,
          49,
          51,
          50,
          27,
          38,
          40,
          39,
          23,
          31,
          43,
          40,
          59,
          38,
          47,
          39,
          25,
          31,
          20,
          29,
          44,
          32,
          19,
          35,
          57,
          32,
          28,
          32,
          25,
          28,
          48,
          32,
          34,
          34,
          43,
          39,
          44,
          38,
          47,
          27,
          37,
          30,
          34,
          30,
          56,
          29,
          19,
          31,
          50,
          36,
          42,
          33,
          36,
          32,
          40,
          28,
          36,
          36,
          52,
          30,
          58,
          27,
          59,
          35,
          37,
          32,
          46,
          29,
          41,
          30,
          54,
          28,
          41,
          36,
          34,
          32,
          33,
          38,
          47,
          35,
          45,
          32,
          32,
          30
         ]
        }
       ],
       "layout": {
        "autosize": false,
        "height": 500,
        "legend": {
         "tracegroupgap": 0
        },
        "margin": {
         "t": 60
        },
        "paper_bgcolor": "white",
        "scene": {
         "domain": {
          "x": [
           0,
           1
          ],
          "y": [
           0,
           1
          ]
         },
         "xaxis": {
          "title": {
           "text": "Annual Income"
          }
         },
         "yaxis": {
          "title": {
           "text": "Spending Score"
          }
         },
         "zaxis": {
          "title": {
           "text": "Age"
          }
         }
        },
        "template": {
         "data": {
          "bar": [
           {
            "error_x": {
             "color": "#2a3f5f"
            },
            "error_y": {
             "color": "#2a3f5f"
            },
            "marker": {
             "line": {
              "color": "#E5ECF6",
              "width": 0.5
             },
             "pattern": {
              "fillmode": "overlay",
              "size": 10,
              "solidity": 0.2
             }
            },
            "type": "bar"
           }
          ],
          "barpolar": [
           {
            "marker": {
             "line": {
              "color": "#E5ECF6",
              "width": 0.5
             },
             "pattern": {
              "fillmode": "overlay",
              "size": 10,
              "solidity": 0.2
             }
            },
            "type": "barpolar"
           }
          ],
          "carpet": [
           {
            "aaxis": {
             "endlinecolor": "#2a3f5f",
             "gridcolor": "white",
             "linecolor": "white",
             "minorgridcolor": "white",
             "startlinecolor": "#2a3f5f"
            },
            "baxis": {
             "endlinecolor": "#2a3f5f",
             "gridcolor": "white",
             "linecolor": "white",
             "minorgridcolor": "white",
             "startlinecolor": "#2a3f5f"
            },
            "type": "carpet"
           }
          ],
          "choropleth": [
           {
            "colorbar": {
             "outlinewidth": 0,
             "ticks": ""
            },
            "type": "choropleth"
           }
          ],
          "contour": [
           {
            "colorbar": {
             "outlinewidth": 0,
             "ticks": ""
            },
            "colorscale": [
             [
              0,
              "#0d0887"
             ],
             [
              0.1111111111111111,
              "#46039f"
             ],
             [
              0.2222222222222222,
              "#7201a8"
             ],
             [
              0.3333333333333333,
              "#9c179e"
             ],
             [
              0.4444444444444444,
              "#bd3786"
             ],
             [
              0.5555555555555556,
              "#d8576b"
             ],
             [
              0.6666666666666666,
              "#ed7953"
             ],
             [
              0.7777777777777778,
              "#fb9f3a"
             ],
             [
              0.8888888888888888,
              "#fdca26"
             ],
             [
              1,
              "#f0f921"
             ]
            ],
            "type": "contour"
           }
          ],
          "contourcarpet": [
           {
            "colorbar": {
             "outlinewidth": 0,
             "ticks": ""
            },
            "type": "contourcarpet"
           }
          ],
          "heatmap": [
           {
            "colorbar": {
             "outlinewidth": 0,
             "ticks": ""
            },
            "colorscale": [
             [
              0,
              "#0d0887"
             ],
             [
              0.1111111111111111,
              "#46039f"
             ],
             [
              0.2222222222222222,
              "#7201a8"
             ],
             [
              0.3333333333333333,
              "#9c179e"
             ],
             [
              0.4444444444444444,
              "#bd3786"
             ],
             [
              0.5555555555555556,
              "#d8576b"
             ],
             [
              0.6666666666666666,
              "#ed7953"
             ],
             [
              0.7777777777777778,
              "#fb9f3a"
             ],
             [
              0.8888888888888888,
              "#fdca26"
             ],
             [
              1,
              "#f0f921"
             ]
            ],
            "type": "heatmap"
           }
          ],
          "heatmapgl": [
           {
            "colorbar": {
             "outlinewidth": 0,
             "ticks": ""
            },
            "colorscale": [
             [
              0,
              "#0d0887"
             ],
             [
              0.1111111111111111,
              "#46039f"
             ],
             [
              0.2222222222222222,
              "#7201a8"
             ],
             [
              0.3333333333333333,
              "#9c179e"
             ],
             [
              0.4444444444444444,
              "#bd3786"
             ],
             [
              0.5555555555555556,
              "#d8576b"
             ],
             [
              0.6666666666666666,
              "#ed7953"
             ],
             [
              0.7777777777777778,
              "#fb9f3a"
             ],
             [
              0.8888888888888888,
              "#fdca26"
             ],
             [
              1,
              "#f0f921"
             ]
            ],
            "type": "heatmapgl"
           }
          ],
          "histogram": [
           {
            "marker": {
             "pattern": {
              "fillmode": "overlay",
              "size": 10,
              "solidity": 0.2
             }
            },
            "type": "histogram"
           }
          ],
          "histogram2d": [
           {
            "colorbar": {
             "outlinewidth": 0,
             "ticks": ""
            },
            "colorscale": [
             [
              0,
              "#0d0887"
             ],
             [
              0.1111111111111111,
              "#46039f"
             ],
             [
              0.2222222222222222,
              "#7201a8"
             ],
             [
              0.3333333333333333,
              "#9c179e"
             ],
             [
              0.4444444444444444,
              "#bd3786"
             ],
             [
              0.5555555555555556,
              "#d8576b"
             ],
             [
              0.6666666666666666,
              "#ed7953"
             ],
             [
              0.7777777777777778,
              "#fb9f3a"
             ],
             [
              0.8888888888888888,
              "#fdca26"
             ],
             [
              1,
              "#f0f921"
             ]
            ],
            "type": "histogram2d"
           }
          ],
          "histogram2dcontour": [
           {
            "colorbar": {
             "outlinewidth": 0,
             "ticks": ""
            },
            "colorscale": [
             [
              0,
              "#0d0887"
             ],
             [
              0.1111111111111111,
              "#46039f"
             ],
             [
              0.2222222222222222,
              "#7201a8"
             ],
             [
              0.3333333333333333,
              "#9c179e"
             ],
             [
              0.4444444444444444,
              "#bd3786"
             ],
             [
              0.5555555555555556,
              "#d8576b"
             ],
             [
              0.6666666666666666,
              "#ed7953"
             ],
             [
              0.7777777777777778,
              "#fb9f3a"
             ],
             [
              0.8888888888888888,
              "#fdca26"
             ],
             [
              1,
              "#f0f921"
             ]
            ],
            "type": "histogram2dcontour"
           }
          ],
          "mesh3d": [
           {
            "colorbar": {
             "outlinewidth": 0,
             "ticks": ""
            },
            "type": "mesh3d"
           }
          ],
          "parcoords": [
           {
            "line": {
             "colorbar": {
              "outlinewidth": 0,
              "ticks": ""
             }
            },
            "type": "parcoords"
           }
          ],
          "pie": [
           {
            "automargin": true,
            "type": "pie"
           }
          ],
          "scatter": [
           {
            "fillpattern": {
             "fillmode": "overlay",
             "size": 10,
             "solidity": 0.2
            },
            "type": "scatter"
           }
          ],
          "scatter3d": [
           {
            "line": {
             "colorbar": {
              "outlinewidth": 0,
              "ticks": ""
             }
            },
            "marker": {
             "colorbar": {
              "outlinewidth": 0,
              "ticks": ""
             }
            },
            "type": "scatter3d"
           }
          ],
          "scattercarpet": [
           {
            "marker": {
             "colorbar": {
              "outlinewidth": 0,
              "ticks": ""
             }
            },
            "type": "scattercarpet"
           }
          ],
          "scattergeo": [
           {
            "marker": {
             "colorbar": {
              "outlinewidth": 0,
              "ticks": ""
             }
            },
            "type": "scattergeo"
           }
          ],
          "scattergl": [
           {
            "marker": {
             "colorbar": {
              "outlinewidth": 0,
              "ticks": ""
             }
            },
            "type": "scattergl"
           }
          ],
          "scattermapbox": [
           {
            "marker": {
             "colorbar": {
              "outlinewidth": 0,
              "ticks": ""
             }
            },
            "type": "scattermapbox"
           }
          ],
          "scatterpolar": [
           {
            "marker": {
             "colorbar": {
              "outlinewidth": 0,
              "ticks": ""
             }
            },
            "type": "scatterpolar"
           }
          ],
          "scatterpolargl": [
           {
            "marker": {
             "colorbar": {
              "outlinewidth": 0,
              "ticks": ""
             }
            },
            "type": "scatterpolargl"
           }
          ],
          "scatterternary": [
           {
            "marker": {
             "colorbar": {
              "outlinewidth": 0,
              "ticks": ""
             }
            },
            "type": "scatterternary"
           }
          ],
          "surface": [
           {
            "colorbar": {
             "outlinewidth": 0,
             "ticks": ""
            },
            "colorscale": [
             [
              0,
              "#0d0887"
             ],
             [
              0.1111111111111111,
              "#46039f"
             ],
             [
              0.2222222222222222,
              "#7201a8"
             ],
             [
              0.3333333333333333,
              "#9c179e"
             ],
             [
              0.4444444444444444,
              "#bd3786"
             ],
             [
              0.5555555555555556,
              "#d8576b"
             ],
             [
              0.6666666666666666,
              "#ed7953"
             ],
             [
              0.7777777777777778,
              "#fb9f3a"
             ],
             [
              0.8888888888888888,
              "#fdca26"
             ],
             [
              1,
              "#f0f921"
             ]
            ],
            "type": "surface"
           }
          ],
          "table": [
           {
            "cells": {
             "fill": {
              "color": "#EBF0F8"
             },
             "line": {
              "color": "white"
             }
            },
            "header": {
             "fill": {
              "color": "#C8D4E3"
             },
             "line": {
              "color": "white"
             }
            },
            "type": "table"
           }
          ]
         },
         "layout": {
          "annotationdefaults": {
           "arrowcolor": "#2a3f5f",
           "arrowhead": 0,
           "arrowwidth": 1
          },
          "autotypenumbers": "strict",
          "coloraxis": {
           "colorbar": {
            "outlinewidth": 0,
            "ticks": ""
           }
          },
          "colorscale": {
           "diverging": [
            [
             0,
             "#8e0152"
            ],
            [
             0.1,
             "#c51b7d"
            ],
            [
             0.2,
             "#de77ae"
            ],
            [
             0.3,
             "#f1b6da"
            ],
            [
             0.4,
             "#fde0ef"
            ],
            [
             0.5,
             "#f7f7f7"
            ],
            [
             0.6,
             "#e6f5d0"
            ],
            [
             0.7,
             "#b8e186"
            ],
            [
             0.8,
             "#7fbc41"
            ],
            [
             0.9,
             "#4d9221"
            ],
            [
             1,
             "#276419"
            ]
           ],
           "sequential": [
            [
             0,
             "#0d0887"
            ],
            [
             0.1111111111111111,
             "#46039f"
            ],
            [
             0.2222222222222222,
             "#7201a8"
            ],
            [
             0.3333333333333333,
             "#9c179e"
            ],
            [
             0.4444444444444444,
             "#bd3786"
            ],
            [
             0.5555555555555556,
             "#d8576b"
            ],
            [
             0.6666666666666666,
             "#ed7953"
            ],
            [
             0.7777777777777778,
             "#fb9f3a"
            ],
            [
             0.8888888888888888,
             "#fdca26"
            ],
            [
             1,
             "#f0f921"
            ]
           ],
           "sequentialminus": [
            [
             0,
             "#0d0887"
            ],
            [
             0.1111111111111111,
             "#46039f"
            ],
            [
             0.2222222222222222,
             "#7201a8"
            ],
            [
             0.3333333333333333,
             "#9c179e"
            ],
            [
             0.4444444444444444,
             "#bd3786"
            ],
            [
             0.5555555555555556,
             "#d8576b"
            ],
            [
             0.6666666666666666,
             "#ed7953"
            ],
            [
             0.7777777777777778,
             "#fb9f3a"
            ],
            [
             0.8888888888888888,
             "#fdca26"
            ],
            [
             1,
             "#f0f921"
            ]
           ]
          },
          "colorway": [
           "#636efa",
           "#EF553B",
           "#00cc96",
           "#ab63fa",
           "#FFA15A",
           "#19d3f3",
           "#FF6692",
           "#B6E880",
           "#FF97FF",
           "#FECB52"
          ],
          "font": {
           "color": "#2a3f5f"
          },
          "geo": {
           "bgcolor": "white",
           "lakecolor": "white",
           "landcolor": "#E5ECF6",
           "showlakes": true,
           "showland": true,
           "subunitcolor": "white"
          },
          "hoverlabel": {
           "align": "left"
          },
          "hovermode": "closest",
          "mapbox": {
           "style": "light"
          },
          "paper_bgcolor": "white",
          "plot_bgcolor": "#E5ECF6",
          "polar": {
           "angularaxis": {
            "gridcolor": "white",
            "linecolor": "white",
            "ticks": ""
           },
           "bgcolor": "#E5ECF6",
           "radialaxis": {
            "gridcolor": "white",
            "linecolor": "white",
            "ticks": ""
           }
          },
          "scene": {
           "xaxis": {
            "backgroundcolor": "#E5ECF6",
            "gridcolor": "white",
            "gridwidth": 2,
            "linecolor": "white",
            "showbackground": true,
            "ticks": "",
            "zerolinecolor": "white"
           },
           "yaxis": {
            "backgroundcolor": "#E5ECF6",
            "gridcolor": "white",
            "gridwidth": 2,
            "linecolor": "white",
            "showbackground": true,
            "ticks": "",
            "zerolinecolor": "white"
           },
           "zaxis": {
            "backgroundcolor": "#E5ECF6",
            "gridcolor": "white",
            "gridwidth": 2,
            "linecolor": "white",
            "showbackground": true,
            "ticks": "",
            "zerolinecolor": "white"
           }
          },
          "shapedefaults": {
           "line": {
            "color": "#2a3f5f"
           }
          },
          "ternary": {
           "aaxis": {
            "gridcolor": "white",
            "linecolor": "white",
            "ticks": ""
           },
           "baxis": {
            "gridcolor": "white",
            "linecolor": "white",
            "ticks": ""
           },
           "bgcolor": "#E5ECF6",
           "caxis": {
            "gridcolor": "white",
            "linecolor": "white",
            "ticks": ""
           }
          },
          "title": {
           "x": 0.05
          },
          "xaxis": {
           "automargin": true,
           "gridcolor": "white",
           "linecolor": "white",
           "ticks": "",
           "title": {
            "standoff": 15
           },
           "zerolinecolor": "white",
           "zerolinewidth": 2
          },
          "yaxis": {
           "automargin": true,
           "gridcolor": "white",
           "linecolor": "white",
           "ticks": "",
           "title": {
            "standoff": 15
           },
           "zerolinecolor": "white",
           "zerolinewidth": 2
          }
         }
        },
        "width": 800
       }
      }
     },
     "metadata": {},
     "output_type": "display_data"
    }
   ],
   "source": [
    "fig = px.scatter_3d(\n",
    "    df, \n",
    "    x= 'Annual Income', \n",
    "    y= 'Spending Score', \n",
    "    z= 'Age',\n",
    "    # color= df['labels'].astype(str),\n",
    "    # color_discrete_sequence= [\"red\", \"blue\", \"green\"]\n",
    ")\n",
    "\n",
    "fig.update_traces(marker_size = 2)\n",
    "\n",
    "fig.update_layout(\n",
    "    autosize=False,\n",
    "    width=800,\n",
    "    height=500,\n",
    "    # margin=dict(\n",
    "    #     l=50,\n",
    "    #     r=50,\n",
    "    #     b=100,\n",
    "    #     t=100,\n",
    "    #     pad=4\n",
    "    # ),\n",
    "    paper_bgcolor=\"white\",\n",
    ")\n",
    "\n",
    "fig.show()"
   ]
  },
  {
   "cell_type": "markdown",
   "metadata": {},
   "source": [
    "## **Clustering**"
   ]
  },
  {
   "cell_type": "markdown",
   "metadata": {},
   "source": [
    "Untuk tujuan clustering dengan metode yang akan digunakan, feature 'Gender' akan didrop karena merupakan categorical feature."
   ]
  },
  {
   "cell_type": "code",
   "execution_count": 20,
   "metadata": {},
   "outputs": [
    {
     "data": {
      "text/html": [
       "<div>\n",
       "<style scoped>\n",
       "    .dataframe tbody tr th:only-of-type {\n",
       "        vertical-align: middle;\n",
       "    }\n",
       "\n",
       "    .dataframe tbody tr th {\n",
       "        vertical-align: top;\n",
       "    }\n",
       "\n",
       "    .dataframe thead th {\n",
       "        text-align: right;\n",
       "    }\n",
       "</style>\n",
       "<table border=\"1\" class=\"dataframe\">\n",
       "  <thead>\n",
       "    <tr style=\"text-align: right;\">\n",
       "      <th></th>\n",
       "      <th>Age</th>\n",
       "      <th>Annual Income</th>\n",
       "      <th>Spending Score</th>\n",
       "    </tr>\n",
       "  </thead>\n",
       "  <tbody>\n",
       "    <tr>\n",
       "      <th>0</th>\n",
       "      <td>19</td>\n",
       "      <td>15</td>\n",
       "      <td>39</td>\n",
       "    </tr>\n",
       "    <tr>\n",
       "      <th>1</th>\n",
       "      <td>21</td>\n",
       "      <td>15</td>\n",
       "      <td>81</td>\n",
       "    </tr>\n",
       "    <tr>\n",
       "      <th>2</th>\n",
       "      <td>20</td>\n",
       "      <td>16</td>\n",
       "      <td>6</td>\n",
       "    </tr>\n",
       "    <tr>\n",
       "      <th>3</th>\n",
       "      <td>23</td>\n",
       "      <td>16</td>\n",
       "      <td>77</td>\n",
       "    </tr>\n",
       "    <tr>\n",
       "      <th>4</th>\n",
       "      <td>31</td>\n",
       "      <td>17</td>\n",
       "      <td>40</td>\n",
       "    </tr>\n",
       "  </tbody>\n",
       "</table>\n",
       "</div>"
      ],
      "text/plain": [
       "   Age  Annual Income  Spending Score\n",
       "0   19             15              39\n",
       "1   21             15              81\n",
       "2   20             16               6\n",
       "3   23             16              77\n",
       "4   31             17              40"
      ]
     },
     "execution_count": 20,
     "metadata": {},
     "output_type": "execute_result"
    }
   ],
   "source": [
    "df = df.drop(columns='Gender', axis=1)\n",
    "df.head()"
   ]
  },
  {
   "cell_type": "code",
   "execution_count": null,
   "metadata": {},
   "outputs": [],
   "source": [
    " "
   ]
  },
  {
   "cell_type": "markdown",
   "metadata": {},
   "source": [
    "## **Finding the best features combination**\n",
    "Kita akan mencoba memilih 2 features untuk clustering, dengan tujuan mempermudah visualisasi."
   ]
  },
  {
   "cell_type": "markdown",
   "metadata": {},
   "source": [
    "## **Scaling**"
   ]
  },
  {
   "cell_type": "code",
   "execution_count": 21,
   "metadata": {},
   "outputs": [
    {
     "data": {
      "text/html": [
       "<div>\n",
       "<style scoped>\n",
       "    .dataframe tbody tr th:only-of-type {\n",
       "        vertical-align: middle;\n",
       "    }\n",
       "\n",
       "    .dataframe tbody tr th {\n",
       "        vertical-align: top;\n",
       "    }\n",
       "\n",
       "    .dataframe thead th {\n",
       "        text-align: right;\n",
       "    }\n",
       "</style>\n",
       "<table border=\"1\" class=\"dataframe\">\n",
       "  <thead>\n",
       "    <tr style=\"text-align: right;\">\n",
       "      <th></th>\n",
       "      <th>Age</th>\n",
       "      <th>Annual Income</th>\n",
       "      <th>Spending Score</th>\n",
       "    </tr>\n",
       "  </thead>\n",
       "  <tbody>\n",
       "    <tr>\n",
       "      <th>0</th>\n",
       "      <td>-1.424569</td>\n",
       "      <td>-1.738999</td>\n",
       "      <td>-0.434801</td>\n",
       "    </tr>\n",
       "    <tr>\n",
       "      <th>1</th>\n",
       "      <td>-1.281035</td>\n",
       "      <td>-1.738999</td>\n",
       "      <td>1.195704</td>\n",
       "    </tr>\n",
       "    <tr>\n",
       "      <th>2</th>\n",
       "      <td>-1.352802</td>\n",
       "      <td>-1.700830</td>\n",
       "      <td>-1.715913</td>\n",
       "    </tr>\n",
       "    <tr>\n",
       "      <th>3</th>\n",
       "      <td>-1.137502</td>\n",
       "      <td>-1.700830</td>\n",
       "      <td>1.040418</td>\n",
       "    </tr>\n",
       "    <tr>\n",
       "      <th>4</th>\n",
       "      <td>-0.563369</td>\n",
       "      <td>-1.662660</td>\n",
       "      <td>-0.395980</td>\n",
       "    </tr>\n",
       "    <tr>\n",
       "      <th>...</th>\n",
       "      <td>...</td>\n",
       "      <td>...</td>\n",
       "      <td>...</td>\n",
       "    </tr>\n",
       "    <tr>\n",
       "      <th>195</th>\n",
       "      <td>-0.276302</td>\n",
       "      <td>2.268791</td>\n",
       "      <td>1.118061</td>\n",
       "    </tr>\n",
       "    <tr>\n",
       "      <th>196</th>\n",
       "      <td>0.441365</td>\n",
       "      <td>2.497807</td>\n",
       "      <td>-0.861839</td>\n",
       "    </tr>\n",
       "    <tr>\n",
       "      <th>197</th>\n",
       "      <td>-0.491602</td>\n",
       "      <td>2.497807</td>\n",
       "      <td>0.923953</td>\n",
       "    </tr>\n",
       "    <tr>\n",
       "      <th>198</th>\n",
       "      <td>-0.491602</td>\n",
       "      <td>2.917671</td>\n",
       "      <td>-1.250054</td>\n",
       "    </tr>\n",
       "    <tr>\n",
       "      <th>199</th>\n",
       "      <td>-0.635135</td>\n",
       "      <td>2.917671</td>\n",
       "      <td>1.273347</td>\n",
       "    </tr>\n",
       "  </tbody>\n",
       "</table>\n",
       "<p>200 rows × 3 columns</p>\n",
       "</div>"
      ],
      "text/plain": [
       "          Age  Annual Income  Spending Score\n",
       "0   -1.424569      -1.738999       -0.434801\n",
       "1   -1.281035      -1.738999        1.195704\n",
       "2   -1.352802      -1.700830       -1.715913\n",
       "3   -1.137502      -1.700830        1.040418\n",
       "4   -0.563369      -1.662660       -0.395980\n",
       "..        ...            ...             ...\n",
       "195 -0.276302       2.268791        1.118061\n",
       "196  0.441365       2.497807       -0.861839\n",
       "197 -0.491602       2.497807        0.923953\n",
       "198 -0.491602       2.917671       -1.250054\n",
       "199 -0.635135       2.917671        1.273347\n",
       "\n",
       "[200 rows x 3 columns]"
      ]
     },
     "execution_count": 21,
     "metadata": {},
     "output_type": "execute_result"
    }
   ],
   "source": [
    "scaler = StandardScaler()\n",
    "df_scaled = scaler.fit_transform(df)\n",
    "\n",
    "df_scaled = pd.DataFrame(df_scaled, columns=['Age', 'Annual Income', 'Spending Score'])\n",
    "df_scaled"
   ]
  },
  {
   "cell_type": "code",
   "execution_count": 22,
   "metadata": {},
   "outputs": [
    {
     "name": "stdout",
     "output_type": "stream",
     "text": [
      "0.4437863926928188 ('Age', 'Annual Income')\n",
      "0.4395299000230284 ('Age', 'Spending Score')\n",
      "0.46658474419000145 ('Annual Income', 'Spending Score')\n",
      "\n",
      "best features combinantion is ('Annual Income', 'Spending Score') with silhouette score: 0.46658474419000145\n"
     ]
    }
   ],
   "source": [
    "# mencari kombinasi feature terbaik dengan KMeans (n_clusters=3)\n",
    "\n",
    "import itertools\n",
    "\n",
    "silhouette = []\n",
    "score = 0\n",
    "thislist = ['Age', 'Annual Income', 'Spending Score']\n",
    "\n",
    "for i in itertools.combinations(thislist, 2):\n",
    "\n",
    "    kmeans = KMeans(n_clusters=3)\n",
    "    kmeans.fit(df_scaled[list(i)])\n",
    "    labels = kmeans.labels_\n",
    "    sil = silhouette_score(df_scaled[list(i)], labels, metric = 'euclidean')\n",
    "    silhouette.append(sil)\n",
    "\n",
    "    if score < sil:\n",
    "        best_combination = i\n",
    "        score = sil\n",
    "\n",
    "    print(sil, i)\n",
    "\n",
    "print()\n",
    "print('best features combinantion is', best_combination, 'with silhouette score:', score)"
   ]
  },
  {
   "cell_type": "code",
   "execution_count": 23,
   "metadata": {},
   "outputs": [
    {
     "name": "stdout",
     "output_type": "stream",
     "text": [
      "Silhoutte score: 0.4431419612216489 \t Index(['Age', 'Annual Income'], dtype='object')\n",
      "Silhoutte score: 0.4395299000230284 \t Index(['Age', 'Spending Score'], dtype='object')\n",
      "Silhoutte score: 0.46658474419000145 \t Index(['Annual Income', 'Spending Score'], dtype='object')\n"
     ]
    }
   ],
   "source": [
    "# mencari kombinasi feature terbaik dengan KMeans\n",
    "X1 = df_scaled[['Age', 'Annual Income']]\n",
    "X2 = df_scaled[['Age', 'Spending Score']]\n",
    "X3 = df_scaled[['Annual Income', 'Spending Score']]\n",
    "\n",
    "cluster_list = [X1, X2, X3]\n",
    "\n",
    "for i in cluster_list:\n",
    "    kmeans = KMeans(n_clusters=3)\n",
    "    kmeans.fit(i)\n",
    "    labels = kmeans.labels_\n",
    "    print('Silhoutte score:', silhouette_score(i, labels),'\\t', i.columns)\n",
    "    kmeans.labels_ = 'cluster', i"
   ]
  },
  {
   "cell_type": "markdown",
   "metadata": {},
   "source": [
    "Karena nilai silhouette score antara 'Annual Income' dan 'Spending Score' paling tinggi, untuk mempermudah visualisasi, maka untuk proses clustering selanjutnya hanya akan digunakan 2 feature ini."
   ]
  },
  {
   "cell_type": "code",
   "execution_count": 24,
   "metadata": {},
   "outputs": [
    {
     "data": {
      "text/html": [
       "<div>\n",
       "<style scoped>\n",
       "    .dataframe tbody tr th:only-of-type {\n",
       "        vertical-align: middle;\n",
       "    }\n",
       "\n",
       "    .dataframe tbody tr th {\n",
       "        vertical-align: top;\n",
       "    }\n",
       "\n",
       "    .dataframe thead th {\n",
       "        text-align: right;\n",
       "    }\n",
       "</style>\n",
       "<table border=\"1\" class=\"dataframe\">\n",
       "  <thead>\n",
       "    <tr style=\"text-align: right;\">\n",
       "      <th></th>\n",
       "      <th>Annual Income</th>\n",
       "      <th>Spending Score</th>\n",
       "    </tr>\n",
       "  </thead>\n",
       "  <tbody>\n",
       "    <tr>\n",
       "      <th>0</th>\n",
       "      <td>-1.738999</td>\n",
       "      <td>-0.434801</td>\n",
       "    </tr>\n",
       "    <tr>\n",
       "      <th>1</th>\n",
       "      <td>-1.738999</td>\n",
       "      <td>1.195704</td>\n",
       "    </tr>\n",
       "    <tr>\n",
       "      <th>2</th>\n",
       "      <td>-1.700830</td>\n",
       "      <td>-1.715913</td>\n",
       "    </tr>\n",
       "    <tr>\n",
       "      <th>3</th>\n",
       "      <td>-1.700830</td>\n",
       "      <td>1.040418</td>\n",
       "    </tr>\n",
       "    <tr>\n",
       "      <th>4</th>\n",
       "      <td>-1.662660</td>\n",
       "      <td>-0.395980</td>\n",
       "    </tr>\n",
       "    <tr>\n",
       "      <th>...</th>\n",
       "      <td>...</td>\n",
       "      <td>...</td>\n",
       "    </tr>\n",
       "    <tr>\n",
       "      <th>195</th>\n",
       "      <td>2.268791</td>\n",
       "      <td>1.118061</td>\n",
       "    </tr>\n",
       "    <tr>\n",
       "      <th>196</th>\n",
       "      <td>2.497807</td>\n",
       "      <td>-0.861839</td>\n",
       "    </tr>\n",
       "    <tr>\n",
       "      <th>197</th>\n",
       "      <td>2.497807</td>\n",
       "      <td>0.923953</td>\n",
       "    </tr>\n",
       "    <tr>\n",
       "      <th>198</th>\n",
       "      <td>2.917671</td>\n",
       "      <td>-1.250054</td>\n",
       "    </tr>\n",
       "    <tr>\n",
       "      <th>199</th>\n",
       "      <td>2.917671</td>\n",
       "      <td>1.273347</td>\n",
       "    </tr>\n",
       "  </tbody>\n",
       "</table>\n",
       "<p>200 rows × 2 columns</p>\n",
       "</div>"
      ],
      "text/plain": [
       "     Annual Income  Spending Score\n",
       "0        -1.738999       -0.434801\n",
       "1        -1.738999        1.195704\n",
       "2        -1.700830       -1.715913\n",
       "3        -1.700830        1.040418\n",
       "4        -1.662660       -0.395980\n",
       "..             ...             ...\n",
       "195       2.268791        1.118061\n",
       "196       2.497807       -0.861839\n",
       "197       2.497807        0.923953\n",
       "198       2.917671       -1.250054\n",
       "199       2.917671        1.273347\n",
       "\n",
       "[200 rows x 2 columns]"
      ]
     },
     "execution_count": 24,
     "metadata": {},
     "output_type": "execute_result"
    }
   ],
   "source": [
    "X_scaled = df_scaled[['Annual Income', 'Spending Score']]\n",
    "X_scaled"
   ]
  },
  {
   "cell_type": "code",
   "execution_count": null,
   "metadata": {},
   "outputs": [],
   "source": []
  },
  {
   "cell_type": "markdown",
   "metadata": {},
   "source": [
    "## **K-Means**"
   ]
  },
  {
   "cell_type": "markdown",
   "metadata": {},
   "source": [
    "### **Elbow method**"
   ]
  },
  {
   "cell_type": "code",
   "execution_count": 25,
   "metadata": {},
   "outputs": [
    {
     "data": {
      "image/png": "[encoded data removed]",
      "text/plain": [
       "<Figure size 720x360 with 1 Axes>"
      ]
     },
     "metadata": {},
     "output_type": "display_data"
    }
   ],
   "source": [
    "# model \n",
    "kmeans_models = [KMeans(n_clusters=k, random_state=0).fit(X_scaled) for k in range (2, 10)]\n",
    "\n",
    "# inertia (WCSS)\n",
    "inertia = [model.inertia_ for model in kmeans_models]\n",
    "\n",
    "sns.set_style(style='whitegrid')\n",
    "plt.figure(figsize=(10, 5))\n",
    "\n",
    "plt.plot(range(2, 10), inertia)\n",
    "\n",
    "plt.title('Elbow method')\n",
    "plt.xlabel('Number of Clusters')\n",
    "plt.ylabel('WCSS');"
   ]
  },
  {
   "attachments": {},
   "cell_type": "markdown",
   "metadata": {},
   "source": [
    "### **Silhouette Score**"
   ]
  },
  {
   "cell_type": "code",
   "execution_count": 26,
   "metadata": {},
   "outputs": [
    {
     "data": {
      "image/png": "[encoded data removed]",
      "text/plain": [
       "<Figure size 720x288 with 1 Axes>"
      ]
     },
     "metadata": {},
     "output_type": "display_data"
    }
   ],
   "source": [
    "# Silhouette score\n",
    "silhoutte = [silhouette_score(X_scaled, model.labels_) for model in kmeans_models]\n",
    "\n",
    "plt.figure(figsize=(10, 4))\n",
    "\n",
    "plt.plot(range(2, 10), silhoutte, 'bo-')\n",
    "\n",
    "plt.xticks(list(np.arange(2,10)))\n",
    "plt.title('Silhouette scores vs Number of clusters')\n",
    "plt.xlabel('Number of clusters')\n",
    "plt.ylabel('Silhouette score');"
   ]
  },
  {
   "cell_type": "markdown",
   "metadata": {},
   "source": [
    "### **Interpretasi**\n",
    "\n",
    "Silhouette score tertinggi didapat dengan jumlah cluster = 5."
   ]
  },
  {
   "cell_type": "code",
   "execution_count": 30,
   "metadata": {},
   "outputs": [
    {
     "data": {
      "text/html": [
       "<style>#sk-container-id-1 {color: black;background-color: white;}#sk-container-id-1 pre{padding: 0;}#sk-container-id-1 div.sk-toggleable {background-color: white;}#sk-container-id-1 label.sk-toggleable__label {cursor: pointer;display: block;width: 100%;margin-bottom: 0;padding: 0.3em;box-sizing: border-box;text-align: center;}#sk-container-id-1 label.sk-toggleable__label-arrow:before {content: \"▸\";float: left;margin-right: 0.25em;color: #696969;}#sk-container-id-1 label.sk-toggleable__label-arrow:hover:before {color: black;}#sk-container-id-1 div.sk-estimator:hover label.sk-toggleable__label-arrow:before {color: black;}#sk-container-id-1 div.sk-toggleable__content {max-height: 0;max-width: 0;overflow: hidden;text-align: left;background-color: #f0f8ff;}#sk-container-id-1 div.sk-toggleable__content pre {margin: 0.2em;color: black;border-radius: 0.25em;background-color: #f0f8ff;}#sk-container-id-1 input.sk-toggleable__control:checked~div.sk-toggleable__content {max-height: 200px;max-width: 100%;overflow: auto;}#sk-container-id-1 input.sk-toggleable__control:checked~label.sk-toggleable__label-arrow:before {content: \"▾\";}#sk-container-id-1 div.sk-estimator input.sk-toggleable__control:checked~label.sk-toggleable__label {background-color: #d4ebff;}#sk-container-id-1 div.sk-label input.sk-toggleable__control:checked~label.sk-toggleable__label {background-color: #d4ebff;}#sk-container-id-1 input.sk-hidden--visually {border: 0;clip: rect(1px 1px 1px 1px);clip: rect(1px, 1px, 1px, 1px);height: 1px;margin: -1px;overflow: hidden;padding: 0;position: absolute;width: 1px;}#sk-container-id-1 div.sk-estimator {font-family: monospace;background-color: #f0f8ff;border: 1px dotted black;border-radius: 0.25em;box-sizing: border-box;margin-bottom: 0.5em;}#sk-container-id-1 div.sk-estimator:hover {background-color: #d4ebff;}#sk-container-id-1 div.sk-parallel-item::after {content: \"\";width: 100%;border-bottom: 1px solid gray;flex-grow: 1;}#sk-container-id-1 div.sk-label:hover label.sk-toggleable__label {background-color: #d4ebff;}#sk-container-id-1 div.sk-serial::before {content: \"\";position: absolute;border-left: 1px solid gray;box-sizing: border-box;top: 0;bottom: 0;left: 50%;z-index: 0;}#sk-container-id-1 div.sk-serial {display: flex;flex-direction: column;align-items: center;background-color: white;padding-right: 0.2em;padding-left: 0.2em;position: relative;}#sk-container-id-1 div.sk-item {position: relative;z-index: 1;}#sk-container-id-1 div.sk-parallel {display: flex;align-items: stretch;justify-content: center;background-color: white;position: relative;}#sk-container-id-1 div.sk-item::before, #sk-container-id-1 div.sk-parallel-item::before {content: \"\";position: absolute;border-left: 1px solid gray;box-sizing: border-box;top: 0;bottom: 0;left: 50%;z-index: -1;}#sk-container-id-1 div.sk-parallel-item {display: flex;flex-direction: column;z-index: 1;position: relative;background-color: white;}#sk-container-id-1 div.sk-parallel-item:first-child::after {align-self: flex-end;width: 50%;}#sk-container-id-1 div.sk-parallel-item:last-child::after {align-self: flex-start;width: 50%;}#sk-container-id-1 div.sk-parallel-item:only-child::after {width: 0;}#sk-container-id-1 div.sk-dashed-wrapped {border: 1px dashed gray;margin: 0 0.4em 0.5em 0.4em;box-sizing: border-box;padding-bottom: 0.4em;background-color: white;}#sk-container-id-1 div.sk-label label {font-family: monospace;font-weight: bold;display: inline-block;line-height: 1.2em;}#sk-container-id-1 div.sk-label-container {text-align: center;}#sk-container-id-1 div.sk-container {/* jupyter's `normalize.less` sets `[hidden] { display: none; }` but bootstrap.min.css set `[hidden] { display: none !important; }` so we also need the `!important` here to be able to override the default hidden behavior on the sphinx rendered scikit-learn.org. See: https://github.com/scikit-learn/scikit-learn/issues/21755 */display: inline-block !important;position: relative;}#sk-container-id-1 div.sk-text-repr-fallback {display: none;}</style><div id=\"sk-container-id-1\" class=\"sk-top-container\"><div class=\"sk-text-repr-fallback\"><pre>KMeans(n_clusters=5)</pre><b>In a Jupyter environment, please rerun this cell to show the HTML representation or trust the notebook. <br />On GitHub, the HTML representation is unable to render, please try loading this page with nbviewer.org.</b></div><div class=\"sk-container\" hidden><div class=\"sk-item\"><div class=\"sk-estimator sk-toggleable\"><input class=\"sk-toggleable__control sk-hidden--visually\" id=\"sk-estimator-id-1\" type=\"checkbox\" checked><label for=\"sk-estimator-id-1\" class=\"sk-toggleable__label sk-toggleable__label-arrow\">KMeans</label><div class=\"sk-toggleable__content\"><pre>KMeans(n_clusters=5)</pre></div></div></div></div></div>"
      ],
      "text/plain": [
       "KMeans(n_clusters=5)"
      ]
     },
     "execution_count": 30,
     "metadata": {},
     "output_type": "execute_result"
    }
   ],
   "source": [
    "kmeans = KMeans(n_clusters=5)\n",
    "kmeans.fit(X_scaled)"
   ]
  },
  {
   "cell_type": "code",
   "execution_count": 31,
   "metadata": {},
   "outputs": [
    {
     "data": {
      "text/plain": [
       "array([4, 3, 4, 3, 4, 3, 4, 3, 4, 3, 4, 3, 4, 3, 4, 3, 4, 3, 4, 3, 4, 3,\n",
       "       4, 3, 4, 3, 4, 3, 4, 3, 4, 3, 4, 3, 4, 3, 4, 3, 4, 3, 4, 3, 4, 0,\n",
       "       4, 3, 0, 0, 0, 0, 0, 0, 0, 0, 0, 0, 0, 0, 0, 0, 0, 0, 0, 0, 0, 0,\n",
       "       0, 0, 0, 0, 0, 0, 0, 0, 0, 0, 0, 0, 0, 0, 0, 0, 0, 0, 0, 0, 0, 0,\n",
       "       0, 0, 0, 0, 0, 0, 0, 0, 0, 0, 0, 0, 0, 0, 0, 0, 0, 0, 0, 0, 0, 0,\n",
       "       0, 0, 0, 0, 0, 0, 0, 0, 0, 0, 0, 0, 0, 1, 2, 1, 0, 1, 2, 1, 2, 1,\n",
       "       0, 1, 2, 1, 2, 1, 2, 1, 2, 1, 0, 1, 2, 1, 2, 1, 2, 1, 2, 1, 2, 1,\n",
       "       2, 1, 2, 1, 2, 1, 2, 1, 2, 1, 2, 1, 2, 1, 2, 1, 2, 1, 2, 1, 2, 1,\n",
       "       2, 1, 2, 1, 2, 1, 2, 1, 2, 1, 2, 1, 2, 1, 2, 1, 2, 1, 2, 1, 2, 1,\n",
       "       2, 1])"
      ]
     },
     "execution_count": 31,
     "metadata": {},
     "output_type": "execute_result"
    }
   ],
   "source": [
    "kmeans.labels_"
   ]
  },
  {
   "cell_type": "code",
   "execution_count": 32,
   "metadata": {},
   "outputs": [
    {
     "data": {
      "text/html": [
       "<div>\n",
       "<style scoped>\n",
       "    .dataframe tbody tr th:only-of-type {\n",
       "        vertical-align: middle;\n",
       "    }\n",
       "\n",
       "    .dataframe tbody tr th {\n",
       "        vertical-align: top;\n",
       "    }\n",
       "\n",
       "    .dataframe thead th {\n",
       "        text-align: right;\n",
       "    }\n",
       "</style>\n",
       "<table border=\"1\" class=\"dataframe\">\n",
       "  <thead>\n",
       "    <tr style=\"text-align: right;\">\n",
       "      <th></th>\n",
       "      <th>Age</th>\n",
       "      <th>Annual Income</th>\n",
       "      <th>Spending Score</th>\n",
       "      <th>kmeans</th>\n",
       "    </tr>\n",
       "  </thead>\n",
       "  <tbody>\n",
       "    <tr>\n",
       "      <th>0</th>\n",
       "      <td>19</td>\n",
       "      <td>15</td>\n",
       "      <td>39</td>\n",
       "      <td>4</td>\n",
       "    </tr>\n",
       "    <tr>\n",
       "      <th>1</th>\n",
       "      <td>21</td>\n",
       "      <td>15</td>\n",
       "      <td>81</td>\n",
       "      <td>3</td>\n",
       "    </tr>\n",
       "    <tr>\n",
       "      <th>2</th>\n",
       "      <td>20</td>\n",
       "      <td>16</td>\n",
       "      <td>6</td>\n",
       "      <td>4</td>\n",
       "    </tr>\n",
       "    <tr>\n",
       "      <th>3</th>\n",
       "      <td>23</td>\n",
       "      <td>16</td>\n",
       "      <td>77</td>\n",
       "      <td>3</td>\n",
       "    </tr>\n",
       "    <tr>\n",
       "      <th>4</th>\n",
       "      <td>31</td>\n",
       "      <td>17</td>\n",
       "      <td>40</td>\n",
       "      <td>4</td>\n",
       "    </tr>\n",
       "    <tr>\n",
       "      <th>...</th>\n",
       "      <td>...</td>\n",
       "      <td>...</td>\n",
       "      <td>...</td>\n",
       "      <td>...</td>\n",
       "    </tr>\n",
       "    <tr>\n",
       "      <th>195</th>\n",
       "      <td>35</td>\n",
       "      <td>120</td>\n",
       "      <td>79</td>\n",
       "      <td>1</td>\n",
       "    </tr>\n",
       "    <tr>\n",
       "      <th>196</th>\n",
       "      <td>45</td>\n",
       "      <td>126</td>\n",
       "      <td>28</td>\n",
       "      <td>2</td>\n",
       "    </tr>\n",
       "    <tr>\n",
       "      <th>197</th>\n",
       "      <td>32</td>\n",
       "      <td>126</td>\n",
       "      <td>74</td>\n",
       "      <td>1</td>\n",
       "    </tr>\n",
       "    <tr>\n",
       "      <th>198</th>\n",
       "      <td>32</td>\n",
       "      <td>137</td>\n",
       "      <td>18</td>\n",
       "      <td>2</td>\n",
       "    </tr>\n",
       "    <tr>\n",
       "      <th>199</th>\n",
       "      <td>30</td>\n",
       "      <td>137</td>\n",
       "      <td>83</td>\n",
       "      <td>1</td>\n",
       "    </tr>\n",
       "  </tbody>\n",
       "</table>\n",
       "<p>200 rows × 4 columns</p>\n",
       "</div>"
      ],
      "text/plain": [
       "     Age  Annual Income  Spending Score  kmeans\n",
       "0     19             15              39       4\n",
       "1     21             15              81       3\n",
       "2     20             16               6       4\n",
       "3     23             16              77       3\n",
       "4     31             17              40       4\n",
       "..   ...            ...             ...     ...\n",
       "195   35            120              79       1\n",
       "196   45            126              28       2\n",
       "197   32            126              74       1\n",
       "198   32            137              18       2\n",
       "199   30            137              83       1\n",
       "\n",
       "[200 rows x 4 columns]"
      ]
     },
     "execution_count": 32,
     "metadata": {},
     "output_type": "execute_result"
    }
   ],
   "source": [
    "df['kmeans'] = kmeans.labels_\n",
    "df"
   ]
  },
  {
   "cell_type": "code",
   "execution_count": 33,
   "metadata": {},
   "outputs": [
    {
     "name": "stdout",
     "output_type": "stream",
     "text": [
      "Silhouette score K-Means: 0.5546571631111091\n"
     ]
    }
   ],
   "source": [
    "print('Silhouette score K-Means:', silhouette_score(X_scaled, kmeans.labels_))"
   ]
  },
  {
   "cell_type": "code",
   "execution_count": 34,
   "metadata": {},
   "outputs": [
    {
     "data": {
      "image/png": "[encoded data removed]",
      "text/plain": [
       "<Figure size 576x576 with 1 Axes>"
      ]
     },
     "metadata": {},
     "output_type": "display_data"
    }
   ],
   "source": [
    "# Plotting the result\n",
    "plt.figure(figsize = (8, 8) )\n",
    "# sns.set_context(context = 'notebook', font_scale=1.5)\n",
    "sns.scatterplot(\n",
    "    x = 'Annual Income', \n",
    "    y = 'Spending Score', \n",
    "    hue = 'kmeans',\n",
    "    data = df,\n",
    "    palette='bright')\n",
    "\n",
    "plt.xlabel('Age')\n",
    "plt.ylabel('Spending Score (1-100)');"
   ]
  },
  {
   "cell_type": "code",
   "execution_count": null,
   "metadata": {},
   "outputs": [],
   "source": []
  },
  {
   "cell_type": "markdown",
   "metadata": {},
   "source": [
    "## **Agglomerative clustering**\n",
    "\n",
    "Objective:\n",
    "- Data point dalam satu cluster karakternya mirip\n",
    "- Antar cluster karakternya berbeda"
   ]
  },
  {
   "cell_type": "code",
   "execution_count": 35,
   "metadata": {},
   "outputs": [
    {
     "data": {
      "image/png": "[encoded data removed]",
      "text/plain": [
       "<Figure size 1080x936 with 1 Axes>"
      ]
     },
     "metadata": {},
     "output_type": "display_data"
    }
   ],
   "source": [
    "# scatterplot Age vs Spending Score\n",
    "plt.figure(figsize=(15, 13))\n",
    "sns.scatterplot(x='Annual Income', y='Spending Score', data=X_scaled)\n",
    "plt.xlabel('Annual Income')\n",
    "plt.ylabel('Spending Score (1-100)')\n",
    "\n",
    "# memberi nomor pada tiap data point\n",
    "for i,txt in enumerate(range(0,X_scaled.shape[0]-1)):\n",
    "    plt.annotate(txt, (X_scaled['Annual Income'][i], X_scaled['Spending Score'][i]), fontsize=10)"
   ]
  },
  {
   "cell_type": "markdown",
   "metadata": {},
   "source": [
    "### **Ward**\n",
    "Menggabungkan 2 cluster dengan variance terkecil (paling seragam)"
   ]
  },
  {
   "cell_type": "code",
   "execution_count": 36,
   "metadata": {},
   "outputs": [
    {
     "data": {
      "text/plain": [
       "array([[353.        , 382.        ,   2.48747181,  49.        ],\n",
       "       [372.        , 384.        ,   2.69811041,  30.        ],\n",
       "       [377.        , 381.        ,   3.15032521,  23.        ],\n",
       "       [383.        , 389.        ,   4.07254633,  85.        ],\n",
       "       [388.        , 390.        ,   4.30813529,  39.        ],\n",
       "       [385.        , 386.        ,   4.35442215,  32.        ],\n",
       "       [391.        , 392.        ,   9.45335291, 108.        ],\n",
       "       [387.        , 395.        ,  10.14126314, 129.        ],\n",
       "       [394.        , 396.        ,  15.18618939, 161.        ],\n",
       "       [393.        , 397.        ,  15.62483742, 200.        ]])"
      ]
     },
     "execution_count": 36,
     "metadata": {},
     "output_type": "execute_result"
    }
   ],
   "source": [
    "# Hierrchical clustering dengan linkage ward\n",
    "linkage_ward = ward(X_scaled)\n",
    "linkage_ward[-10:]"
   ]
  },
  {
   "cell_type": "code",
   "execution_count": 37,
   "metadata": {},
   "outputs": [
    {
     "data": {
      "text/plain": [
       "''"
      ]
     },
     "execution_count": 37,
     "metadata": {},
     "output_type": "execute_result"
    },
    {
     "data": {
      "image/png": "[encoded data removed]",
      "text/plain": [
       "<Figure size 720x576 with 1 Axes>"
      ]
     },
     "metadata": {},
     "output_type": "display_data"
    }
   ],
   "source": [
    "plt.figure(figsize = (10, 8))\n",
    "sns.set_style(style='white')\n",
    "\n",
    "dendrogram(linkage_ward, 25)\n",
    "\n",
    "ax = plt.gca()\n",
    "bounds = ax.get_xbound()\n",
    "ax.plot(bounds, [14, 14], '--', c='k')\n",
    "ax.plot(bounds, [10, 10], '--', c='k')\n",
    "ax.text(bounds[1], 14, ' 3 clusters', va='center', fontdict={'size': 15})\n",
    "ax.text(bounds[1], 10, ' 4 clusters', va='center', fontdict={'size': 15})\n",
    "plt.title('Ward')\n",
    "plt.xlabel('Sample index')\n",
    "plt.ylabel('Cluster distance')\n",
    ";"
   ]
  },
  {
   "cell_type": "markdown",
   "metadata": {},
   "source": [
    "**Perubahan jarak**\n",
    "- 2 cluster = 0.4\n",
    "- 3 cluster = 5.0 \n",
    "- 4 cluster = 0.7\n",
    "- 5 cluster = 5.1 (3 cluster paling optimal)\n",
    "\n"
   ]
  },
  {
   "cell_type": "markdown",
   "metadata": {},
   "source": [
    "### **Complete**\n",
    "Menghitung jarak antar data point terjauh pada cluster berbeda, lalu menyatukan yg jaraknya paling kecil\n",
    "\n",
    "\\* sensitif terhadap outliers"
   ]
  },
  {
   "cell_type": "code",
   "execution_count": 38,
   "metadata": {},
   "outputs": [
    {
     "data": {
      "text/plain": [
       "array([[370.        , 392.        ,   2.61403624,  39.        ],\n",
       "       [387.        , 390.        ,   2.86378803, 102.        ],\n",
       "       [389.        , 395.        ,   3.72686983, 123.        ],\n",
       "       [393.        , 394.        ,   3.90921424,  77.        ],\n",
       "       [396.        , 397.        ,   5.50147501, 200.        ]])"
      ]
     },
     "execution_count": 38,
     "metadata": {},
     "output_type": "execute_result"
    }
   ],
   "source": [
    "# Hierrchical clustering dengan linkage complete\n",
    "linkage_complete = complete(X_scaled)\n",
    "linkage_complete[-5:]"
   ]
  },
  {
   "cell_type": "code",
   "execution_count": 39,
   "metadata": {},
   "outputs": [
    {
     "data": {
      "image/png": "[encoded data removed]",
      "text/plain": [
       "<Figure size 720x576 with 1 Axes>"
      ]
     },
     "metadata": {},
     "output_type": "display_data"
    }
   ],
   "source": [
    "plt.figure(figsize = (10, 8))\n",
    "sns.set_style(style='white')\n",
    "\n",
    "dendrogram(linkage_complete, 25)\n",
    "\n",
    "ax = plt.gca()\n",
    "bounds = ax.get_xbound()\n",
    "ax.plot(bounds, [4.5, 4.5], '--', c='k')\n",
    "ax.plot(bounds, [3.5, 3.5], '--', c='k')\n",
    "ax.text(bounds[1], 4.5, ' two clusters', va='center', fontdict={'size': 15})\n",
    "ax.text(bounds[1], 3.5, ' three clusters', va='center', fontdict={'size': 15})\n",
    "plt.title('Complete')\n",
    "plt.xlabel('Sample index')\n",
    "plt.ylabel('Cluster distance');"
   ]
  },
  {
   "cell_type": "markdown",
   "metadata": {},
   "source": [
    "**Perubahan jarak**\n",
    "- 2 cluster = 1.6 (2 cluster paling optimal)\n",
    "- 3 cluster = 0.2 \n",
    "- 4 cluster = 0.9\n",
    "- 5 cluster = 0.2 \n"
   ]
  },
  {
   "cell_type": "code",
   "execution_count": null,
   "metadata": {},
   "outputs": [],
   "source": []
  },
  {
   "cell_type": "markdown",
   "metadata": {},
   "source": [
    "### **Average**\n",
    "Menghitung jarak antara tiap data point ke data point di cluster lainnya, kemudian dirata-ratakan. Kemudian dicari yg nilainya paling kecil"
   ]
  },
  {
   "cell_type": "code",
   "execution_count": 40,
   "metadata": {},
   "outputs": [
    {
     "data": {
      "text/plain": [
       "array([[385.        , 387.        ,   1.02172432,  36.        ],\n",
       "       [377.        , 389.        ,   1.02261282,  34.        ],\n",
       "       [384.        , 390.        ,   1.64148137, 102.        ],\n",
       "       [386.        , 392.        ,   1.6659244 ,  38.        ],\n",
       "       [379.        , 391.        ,   1.76028807,  39.        ],\n",
       "       [388.        , 393.        ,   1.81715707, 123.        ],\n",
       "       [394.        , 396.        ,   2.21477378, 161.        ],\n",
       "       [395.        , 397.        ,   2.31099589, 200.        ]])"
      ]
     },
     "execution_count": 40,
     "metadata": {},
     "output_type": "execute_result"
    }
   ],
   "source": [
    "# Hierrchical clustering dengan linkage average\n",
    "linkage_average = average(X_scaled)\n",
    "linkage_average[-8:]"
   ]
  },
  {
   "cell_type": "code",
   "execution_count": 41,
   "metadata": {},
   "outputs": [
    {
     "data": {
      "image/png": "[encoded data removed]",
      "text/plain": [
       "<Figure size 720x576 with 1 Axes>"
      ]
     },
     "metadata": {},
     "output_type": "display_data"
    }
   ],
   "source": [
    "plt.figure(figsize = (10, 8))\n",
    "sns.set_style(style='white')\n",
    "\n",
    "dendrogram(linkage_average, 25)\n",
    "ax = plt.gca()\n",
    "bounds = ax.get_xbound()\n",
    "ax.plot(bounds, [2.25, 2.25], '--', c='k')\n",
    "ax.plot(bounds, [2, 2], '--', c='k')\n",
    "ax.text(bounds[1], 2.25, ' 2 clusters', va='center', fontdict={'size': 15})\n",
    "ax.text(bounds[1], 2, ' 3 clusters', va='center', fontdict={'size': 15})\n",
    "plt.title('Average')\n",
    "plt.xlabel('Sample index')\n",
    "plt.ylabel('Cluster distance');"
   ]
  },
  {
   "cell_type": "markdown",
   "metadata": {},
   "source": [
    "**Perubahan jarak**\n",
    "- 2 cluster = 0.1\n",
    "- 3 cluster = 0.4 (3 cluster paling optimal)\n",
    "- 4 cluster = 0.06\n",
    "- 5 cluster = 0.1"
   ]
  },
  {
   "cell_type": "code",
   "execution_count": null,
   "metadata": {},
   "outputs": [],
   "source": []
  },
  {
   "cell_type": "markdown",
   "metadata": {},
   "source": [
    "### **Results comparison**"
   ]
  },
  {
   "cell_type": "markdown",
   "metadata": {},
   "source": [
    "**Pemilihan Jumlah Cluster**\n",
    "\n",
    "- Pemilihan jumlah cluster pada agglomerative clustering dapat dipilih secara subjective (berdasarkan domain knowledge), atau dengan pendekatan memilih perubahan jarak terbesar. \n",
    "\n",
    "- Dari visualisasi dendrogram pada 3 metode di atas, kita mendapatkan kandidat metode dan cluster:\n",
    "    - Ward: 5 cluster\n",
    "    - Complete: 2 cluster\n",
    "    - Average: 3 cluster\n",
    "    \n",
    "<br>\n",
    "\n",
    "- Dari 3 metode linkage yang digunakan dari Hierarchical Clustering pada dataset ini, menunjukkan jumlah cluster terbaik adalah 2 atau 3 cluster. \n",
    "- Coba dengan silhouette score, manakah metode dan berapa cluster-kah yang terbaik?"
   ]
  },
  {
   "cell_type": "code",
   "execution_count": 42,
   "metadata": {},
   "outputs": [
    {
     "data": {
      "text/html": [
       "<div>\n",
       "<style scoped>\n",
       "    .dataframe tbody tr th:only-of-type {\n",
       "        vertical-align: middle;\n",
       "    }\n",
       "\n",
       "    .dataframe tbody tr th {\n",
       "        vertical-align: top;\n",
       "    }\n",
       "\n",
       "    .dataframe thead th {\n",
       "        text-align: right;\n",
       "    }\n",
       "</style>\n",
       "<table border=\"1\" class=\"dataframe\">\n",
       "  <thead>\n",
       "    <tr style=\"text-align: right;\">\n",
       "      <th></th>\n",
       "      <th>Annual Income</th>\n",
       "      <th>Spending Score</th>\n",
       "    </tr>\n",
       "  </thead>\n",
       "  <tbody>\n",
       "    <tr>\n",
       "      <th>0</th>\n",
       "      <td>-1.738999</td>\n",
       "      <td>-0.434801</td>\n",
       "    </tr>\n",
       "    <tr>\n",
       "      <th>1</th>\n",
       "      <td>-1.738999</td>\n",
       "      <td>1.195704</td>\n",
       "    </tr>\n",
       "    <tr>\n",
       "      <th>2</th>\n",
       "      <td>-1.700830</td>\n",
       "      <td>-1.715913</td>\n",
       "    </tr>\n",
       "    <tr>\n",
       "      <th>3</th>\n",
       "      <td>-1.700830</td>\n",
       "      <td>1.040418</td>\n",
       "    </tr>\n",
       "    <tr>\n",
       "      <th>4</th>\n",
       "      <td>-1.662660</td>\n",
       "      <td>-0.395980</td>\n",
       "    </tr>\n",
       "    <tr>\n",
       "      <th>...</th>\n",
       "      <td>...</td>\n",
       "      <td>...</td>\n",
       "    </tr>\n",
       "    <tr>\n",
       "      <th>195</th>\n",
       "      <td>2.268791</td>\n",
       "      <td>1.118061</td>\n",
       "    </tr>\n",
       "    <tr>\n",
       "      <th>196</th>\n",
       "      <td>2.497807</td>\n",
       "      <td>-0.861839</td>\n",
       "    </tr>\n",
       "    <tr>\n",
       "      <th>197</th>\n",
       "      <td>2.497807</td>\n",
       "      <td>0.923953</td>\n",
       "    </tr>\n",
       "    <tr>\n",
       "      <th>198</th>\n",
       "      <td>2.917671</td>\n",
       "      <td>-1.250054</td>\n",
       "    </tr>\n",
       "    <tr>\n",
       "      <th>199</th>\n",
       "      <td>2.917671</td>\n",
       "      <td>1.273347</td>\n",
       "    </tr>\n",
       "  </tbody>\n",
       "</table>\n",
       "<p>200 rows × 2 columns</p>\n",
       "</div>"
      ],
      "text/plain": [
       "     Annual Income  Spending Score\n",
       "0        -1.738999       -0.434801\n",
       "1        -1.738999        1.195704\n",
       "2        -1.700830       -1.715913\n",
       "3        -1.700830        1.040418\n",
       "4        -1.662660       -0.395980\n",
       "..             ...             ...\n",
       "195       2.268791        1.118061\n",
       "196       2.497807       -0.861839\n",
       "197       2.497807        0.923953\n",
       "198       2.917671       -1.250054\n",
       "199       2.917671        1.273347\n",
       "\n",
       "[200 rows x 2 columns]"
      ]
     },
     "execution_count": 42,
     "metadata": {},
     "output_type": "execute_result"
    }
   ],
   "source": [
    "X_scaled"
   ]
  },
  {
   "cell_type": "code",
   "execution_count": 43,
   "metadata": {},
   "outputs": [
    {
     "data": {
      "text/html": [
       "<div>\n",
       "<style scoped>\n",
       "    .dataframe tbody tr th:only-of-type {\n",
       "        vertical-align: middle;\n",
       "    }\n",
       "\n",
       "    .dataframe tbody tr th {\n",
       "        vertical-align: top;\n",
       "    }\n",
       "\n",
       "    .dataframe thead th {\n",
       "        text-align: right;\n",
       "    }\n",
       "</style>\n",
       "<table border=\"1\" class=\"dataframe\">\n",
       "  <thead>\n",
       "    <tr style=\"text-align: right;\">\n",
       "      <th></th>\n",
       "      <th>Age</th>\n",
       "      <th>Annual Income</th>\n",
       "      <th>Spending Score</th>\n",
       "      <th>kmeans</th>\n",
       "      <th>Ward2</th>\n",
       "      <th>Complete2</th>\n",
       "      <th>Average2</th>\n",
       "    </tr>\n",
       "  </thead>\n",
       "  <tbody>\n",
       "    <tr>\n",
       "      <th>0</th>\n",
       "      <td>19</td>\n",
       "      <td>15</td>\n",
       "      <td>39</td>\n",
       "      <td>4</td>\n",
       "      <td>0</td>\n",
       "      <td>1</td>\n",
       "      <td>0</td>\n",
       "    </tr>\n",
       "    <tr>\n",
       "      <th>1</th>\n",
       "      <td>21</td>\n",
       "      <td>15</td>\n",
       "      <td>81</td>\n",
       "      <td>3</td>\n",
       "      <td>0</td>\n",
       "      <td>1</td>\n",
       "      <td>0</td>\n",
       "    </tr>\n",
       "    <tr>\n",
       "      <th>2</th>\n",
       "      <td>20</td>\n",
       "      <td>16</td>\n",
       "      <td>6</td>\n",
       "      <td>4</td>\n",
       "      <td>0</td>\n",
       "      <td>1</td>\n",
       "      <td>0</td>\n",
       "    </tr>\n",
       "    <tr>\n",
       "      <th>3</th>\n",
       "      <td>23</td>\n",
       "      <td>16</td>\n",
       "      <td>77</td>\n",
       "      <td>3</td>\n",
       "      <td>0</td>\n",
       "      <td>1</td>\n",
       "      <td>0</td>\n",
       "    </tr>\n",
       "    <tr>\n",
       "      <th>4</th>\n",
       "      <td>31</td>\n",
       "      <td>17</td>\n",
       "      <td>40</td>\n",
       "      <td>4</td>\n",
       "      <td>0</td>\n",
       "      <td>1</td>\n",
       "      <td>0</td>\n",
       "    </tr>\n",
       "  </tbody>\n",
       "</table>\n",
       "</div>"
      ],
      "text/plain": [
       "   Age  Annual Income  Spending Score  kmeans  Ward2  Complete2  Average2\n",
       "0   19             15              39       4      0          1         0\n",
       "1   21             15              81       3      0          1         0\n",
       "2   20             16               6       4      0          1         0\n",
       "3   23             16              77       3      0          1         0\n",
       "4   31             17              40       4      0          1         0"
      ]
     },
     "execution_count": 43,
     "metadata": {},
     "output_type": "execute_result"
    }
   ],
   "source": [
    "# Comparison of 2 clusters\n",
    "\n",
    "agg_ward = AgglomerativeClustering(n_clusters=2, linkage='ward')\n",
    "df['Ward2'] = agg_ward.fit_predict(X_scaled)\n",
    "\n",
    "agg_complete = AgglomerativeClustering(n_clusters=2, linkage='complete')\n",
    "df['Complete2'] = agg_complete.fit_predict(X_scaled)\n",
    "\n",
    "agg_average = AgglomerativeClustering(n_clusters=2, linkage='average')\n",
    "df['Average2'] = agg_average.fit_predict(X_scaled)\n",
    "\n",
    "df.head()"
   ]
  },
  {
   "cell_type": "code",
   "execution_count": 44,
   "metadata": {},
   "outputs": [
    {
     "name": "stdout",
     "output_type": "stream",
     "text": [
      "Silhouette score ward 2 clusters: 0.3842337621772661\n",
      "Silhouette score complete 2 clusters: 0.36071083057634334\n",
      "Silhouette score average 2 clusters: 0.3842337621772661\n"
     ]
    }
   ],
   "source": [
    "print('Silhouette score ward 2 clusters:', silhouette_score(X_scaled, df['Ward2']))\n",
    "print('Silhouette score complete 2 clusters:', silhouette_score(X_scaled, df['Complete2']))\n",
    "print('Silhouette score average 2 clusters:', silhouette_score(X_scaled, df['Average2']))"
   ]
  },
  {
   "cell_type": "code",
   "execution_count": 45,
   "metadata": {},
   "outputs": [
    {
     "data": {
      "text/html": [
       "<div>\n",
       "<style scoped>\n",
       "    .dataframe tbody tr th:only-of-type {\n",
       "        vertical-align: middle;\n",
       "    }\n",
       "\n",
       "    .dataframe tbody tr th {\n",
       "        vertical-align: top;\n",
       "    }\n",
       "\n",
       "    .dataframe thead th {\n",
       "        text-align: right;\n",
       "    }\n",
       "</style>\n",
       "<table border=\"1\" class=\"dataframe\">\n",
       "  <thead>\n",
       "    <tr style=\"text-align: right;\">\n",
       "      <th></th>\n",
       "      <th>Age</th>\n",
       "      <th>Annual Income</th>\n",
       "      <th>Spending Score</th>\n",
       "      <th>kmeans</th>\n",
       "      <th>Ward2</th>\n",
       "      <th>Complete2</th>\n",
       "      <th>Average2</th>\n",
       "      <th>Ward3</th>\n",
       "      <th>Complete3</th>\n",
       "      <th>Average3</th>\n",
       "    </tr>\n",
       "  </thead>\n",
       "  <tbody>\n",
       "    <tr>\n",
       "      <th>0</th>\n",
       "      <td>19</td>\n",
       "      <td>15</td>\n",
       "      <td>39</td>\n",
       "      <td>4</td>\n",
       "      <td>0</td>\n",
       "      <td>1</td>\n",
       "      <td>0</td>\n",
       "      <td>0</td>\n",
       "      <td>0</td>\n",
       "      <td>0</td>\n",
       "    </tr>\n",
       "    <tr>\n",
       "      <th>1</th>\n",
       "      <td>21</td>\n",
       "      <td>15</td>\n",
       "      <td>81</td>\n",
       "      <td>3</td>\n",
       "      <td>0</td>\n",
       "      <td>1</td>\n",
       "      <td>0</td>\n",
       "      <td>0</td>\n",
       "      <td>0</td>\n",
       "      <td>0</td>\n",
       "    </tr>\n",
       "    <tr>\n",
       "      <th>2</th>\n",
       "      <td>20</td>\n",
       "      <td>16</td>\n",
       "      <td>6</td>\n",
       "      <td>4</td>\n",
       "      <td>0</td>\n",
       "      <td>1</td>\n",
       "      <td>0</td>\n",
       "      <td>0</td>\n",
       "      <td>0</td>\n",
       "      <td>0</td>\n",
       "    </tr>\n",
       "    <tr>\n",
       "      <th>3</th>\n",
       "      <td>23</td>\n",
       "      <td>16</td>\n",
       "      <td>77</td>\n",
       "      <td>3</td>\n",
       "      <td>0</td>\n",
       "      <td>1</td>\n",
       "      <td>0</td>\n",
       "      <td>0</td>\n",
       "      <td>0</td>\n",
       "      <td>0</td>\n",
       "    </tr>\n",
       "    <tr>\n",
       "      <th>4</th>\n",
       "      <td>31</td>\n",
       "      <td>17</td>\n",
       "      <td>40</td>\n",
       "      <td>4</td>\n",
       "      <td>0</td>\n",
       "      <td>1</td>\n",
       "      <td>0</td>\n",
       "      <td>0</td>\n",
       "      <td>0</td>\n",
       "      <td>0</td>\n",
       "    </tr>\n",
       "  </tbody>\n",
       "</table>\n",
       "</div>"
      ],
      "text/plain": [
       "   Age  Annual Income  Spending Score  kmeans  Ward2  Complete2  Average2  \\\n",
       "0   19             15              39       4      0          1         0   \n",
       "1   21             15              81       3      0          1         0   \n",
       "2   20             16               6       4      0          1         0   \n",
       "3   23             16              77       3      0          1         0   \n",
       "4   31             17              40       4      0          1         0   \n",
       "\n",
       "   Ward3  Complete3  Average3  \n",
       "0      0          0         0  \n",
       "1      0          0         0  \n",
       "2      0          0         0  \n",
       "3      0          0         0  \n",
       "4      0          0         0  "
      ]
     },
     "execution_count": 45,
     "metadata": {},
     "output_type": "execute_result"
    }
   ],
   "source": [
    "# Comparison of 3 clusters\n",
    "\n",
    "agg_ward = AgglomerativeClustering(n_clusters=3, linkage='ward')\n",
    "df['Ward3'] = agg_ward.fit_predict(X_scaled)\n",
    "\n",
    "agg_complete = AgglomerativeClustering(n_clusters=3, linkage='complete')\n",
    "df['Complete3'] = agg_complete.fit_predict(X_scaled)\n",
    "\n",
    "agg_average = AgglomerativeClustering(n_clusters=3, linkage='average')\n",
    "df['Average3'] = agg_average.fit_predict(X_scaled)\n",
    "\n",
    "df.head()"
   ]
  },
  {
   "cell_type": "code",
   "execution_count": 46,
   "metadata": {},
   "outputs": [
    {
     "name": "stdout",
     "output_type": "stream",
     "text": [
      "Silhouette score ward 3 clusters: 0.4610481446570447\n",
      "Silhouette score complete 3 clusters: 0.46658474419000145\n",
      "Silhouette score average 3 clusters: 0.46658474419000145\n"
     ]
    }
   ],
   "source": [
    "print('Silhouette score ward 3 clusters:', silhouette_score(X_scaled, df['Ward3']))\n",
    "print('Silhouette score complete 3 clusters:', silhouette_score(X_scaled, df['Complete3']))\n",
    "print('Silhouette score average 3 clusters:', silhouette_score(X_scaled, df['Average3']))"
   ]
  },
  {
   "cell_type": "code",
   "execution_count": 47,
   "metadata": {},
   "outputs": [
    {
     "data": {
      "text/html": [
       "<div>\n",
       "<style scoped>\n",
       "    .dataframe tbody tr th:only-of-type {\n",
       "        vertical-align: middle;\n",
       "    }\n",
       "\n",
       "    .dataframe tbody tr th {\n",
       "        vertical-align: top;\n",
       "    }\n",
       "\n",
       "    .dataframe thead th {\n",
       "        text-align: right;\n",
       "    }\n",
       "</style>\n",
       "<table border=\"1\" class=\"dataframe\">\n",
       "  <thead>\n",
       "    <tr style=\"text-align: right;\">\n",
       "      <th></th>\n",
       "      <th>Age</th>\n",
       "      <th>Annual Income</th>\n",
       "      <th>Spending Score</th>\n",
       "      <th>kmeans</th>\n",
       "      <th>Ward2</th>\n",
       "      <th>Complete2</th>\n",
       "      <th>Average2</th>\n",
       "      <th>Ward3</th>\n",
       "      <th>Complete3</th>\n",
       "      <th>Average3</th>\n",
       "      <th>Ward5</th>\n",
       "      <th>Complete5</th>\n",
       "      <th>Average5</th>\n",
       "    </tr>\n",
       "  </thead>\n",
       "  <tbody>\n",
       "    <tr>\n",
       "      <th>0</th>\n",
       "      <td>19</td>\n",
       "      <td>15</td>\n",
       "      <td>39</td>\n",
       "      <td>4</td>\n",
       "      <td>0</td>\n",
       "      <td>1</td>\n",
       "      <td>0</td>\n",
       "      <td>0</td>\n",
       "      <td>0</td>\n",
       "      <td>0</td>\n",
       "      <td>4</td>\n",
       "      <td>1</td>\n",
       "      <td>1</td>\n",
       "    </tr>\n",
       "    <tr>\n",
       "      <th>1</th>\n",
       "      <td>21</td>\n",
       "      <td>15</td>\n",
       "      <td>81</td>\n",
       "      <td>3</td>\n",
       "      <td>0</td>\n",
       "      <td>1</td>\n",
       "      <td>0</td>\n",
       "      <td>0</td>\n",
       "      <td>0</td>\n",
       "      <td>0</td>\n",
       "      <td>3</td>\n",
       "      <td>3</td>\n",
       "      <td>3</td>\n",
       "    </tr>\n",
       "    <tr>\n",
       "      <th>2</th>\n",
       "      <td>20</td>\n",
       "      <td>16</td>\n",
       "      <td>6</td>\n",
       "      <td>4</td>\n",
       "      <td>0</td>\n",
       "      <td>1</td>\n",
       "      <td>0</td>\n",
       "      <td>0</td>\n",
       "      <td>0</td>\n",
       "      <td>0</td>\n",
       "      <td>4</td>\n",
       "      <td>1</td>\n",
       "      <td>1</td>\n",
       "    </tr>\n",
       "    <tr>\n",
       "      <th>3</th>\n",
       "      <td>23</td>\n",
       "      <td>16</td>\n",
       "      <td>77</td>\n",
       "      <td>3</td>\n",
       "      <td>0</td>\n",
       "      <td>1</td>\n",
       "      <td>0</td>\n",
       "      <td>0</td>\n",
       "      <td>0</td>\n",
       "      <td>0</td>\n",
       "      <td>3</td>\n",
       "      <td>3</td>\n",
       "      <td>3</td>\n",
       "    </tr>\n",
       "    <tr>\n",
       "      <th>4</th>\n",
       "      <td>31</td>\n",
       "      <td>17</td>\n",
       "      <td>40</td>\n",
       "      <td>4</td>\n",
       "      <td>0</td>\n",
       "      <td>1</td>\n",
       "      <td>0</td>\n",
       "      <td>0</td>\n",
       "      <td>0</td>\n",
       "      <td>0</td>\n",
       "      <td>4</td>\n",
       "      <td>1</td>\n",
       "      <td>1</td>\n",
       "    </tr>\n",
       "  </tbody>\n",
       "</table>\n",
       "</div>"
      ],
      "text/plain": [
       "   Age  Annual Income  Spending Score  kmeans  Ward2  Complete2  Average2  \\\n",
       "0   19             15              39       4      0          1         0   \n",
       "1   21             15              81       3      0          1         0   \n",
       "2   20             16               6       4      0          1         0   \n",
       "3   23             16              77       3      0          1         0   \n",
       "4   31             17              40       4      0          1         0   \n",
       "\n",
       "   Ward3  Complete3  Average3  Ward5  Complete5  Average5  \n",
       "0      0          0         0      4          1         1  \n",
       "1      0          0         0      3          3         3  \n",
       "2      0          0         0      4          1         1  \n",
       "3      0          0         0      3          3         3  \n",
       "4      0          0         0      4          1         1  "
      ]
     },
     "execution_count": 47,
     "metadata": {},
     "output_type": "execute_result"
    }
   ],
   "source": [
    "# Comparison of 5 clusters\n",
    "\n",
    "agg_ward = AgglomerativeClustering(n_clusters=5, linkage='ward')\n",
    "df['Ward5'] = agg_ward.fit_predict(X_scaled)\n",
    "\n",
    "agg_complete = AgglomerativeClustering(n_clusters=5, linkage='complete')\n",
    "df['Complete5'] = agg_complete.fit_predict(X_scaled)\n",
    "\n",
    "agg_average = AgglomerativeClustering(n_clusters=5, linkage='average')\n",
    "df['Average5'] = agg_average.fit_predict(X_scaled)\n",
    "\n",
    "df.head()"
   ]
  },
  {
   "cell_type": "code",
   "execution_count": 48,
   "metadata": {},
   "outputs": [
    {
     "name": "stdout",
     "output_type": "stream",
     "text": [
      "Silhouette score ward 5 clusters: 0.5538089226688662\n",
      "Silhouette score complete 5 clusters: 0.5531118656926701\n",
      "Silhouette score average 5 clusters: 0.4794263081846086\n"
     ]
    }
   ],
   "source": [
    "print('Silhouette score ward 5 clusters:', silhouette_score(X_scaled, df['Ward5']))\n",
    "print('Silhouette score complete 5 clusters:', silhouette_score(X_scaled, df['Complete5']))\n",
    "print('Silhouette score average 5 clusters:', silhouette_score(X_scaled, df['Average5']))"
   ]
  },
  {
   "cell_type": "code",
   "execution_count": 49,
   "metadata": {},
   "outputs": [
    {
     "data": {
      "text/html": [
       "<div>\n",
       "<style scoped>\n",
       "    .dataframe tbody tr th:only-of-type {\n",
       "        vertical-align: middle;\n",
       "    }\n",
       "\n",
       "    .dataframe tbody tr th {\n",
       "        vertical-align: top;\n",
       "    }\n",
       "\n",
       "    .dataframe thead th {\n",
       "        text-align: right;\n",
       "    }\n",
       "</style>\n",
       "<table border=\"1\" class=\"dataframe\">\n",
       "  <thead>\n",
       "    <tr style=\"text-align: right;\">\n",
       "      <th></th>\n",
       "      <th>Total Cluster</th>\n",
       "      <th>Ward</th>\n",
       "      <th>Complete</th>\n",
       "      <th>Average</th>\n",
       "    </tr>\n",
       "  </thead>\n",
       "  <tbody>\n",
       "    <tr>\n",
       "      <th>0</th>\n",
       "      <td>2 Clusters</td>\n",
       "      <td>0.384234</td>\n",
       "      <td>0.360711</td>\n",
       "      <td>0.384234</td>\n",
       "    </tr>\n",
       "    <tr>\n",
       "      <th>1</th>\n",
       "      <td>3 Clusters</td>\n",
       "      <td>0.461048</td>\n",
       "      <td>0.466585</td>\n",
       "      <td>0.466585</td>\n",
       "    </tr>\n",
       "    <tr>\n",
       "      <th>2</th>\n",
       "      <td>5 Clusters</td>\n",
       "      <td>0.553809</td>\n",
       "      <td>0.553112</td>\n",
       "      <td>0.479426</td>\n",
       "    </tr>\n",
       "  </tbody>\n",
       "</table>\n",
       "</div>"
      ],
      "text/plain": [
       "  Total Cluster      Ward  Complete   Average\n",
       "0    2 Clusters  0.384234  0.360711  0.384234\n",
       "1    3 Clusters  0.461048  0.466585  0.466585\n",
       "2    5 Clusters  0.553809  0.553112  0.479426"
      ]
     },
     "execution_count": 49,
     "metadata": {},
     "output_type": "execute_result"
    }
   ],
   "source": [
    "pd.DataFrame({'Total Cluster': ['2 Clusters', '3 Clusters', '5 Clusters'],\n",
    "    'Ward': [silhouette_score(X_scaled, df['Ward2']), silhouette_score(X_scaled, df['Ward3']), silhouette_score(X_scaled, df['Ward5'])],\n",
    "    'Complete': [silhouette_score(X_scaled, df['Complete2']), silhouette_score(X_scaled, df['Complete3']), silhouette_score(X_scaled, df['Complete5'])],\n",
    "    'Average': [silhouette_score(X_scaled, df['Average2']), silhouette_score(X_scaled, df['Average3']), silhouette_score(X_scaled, df['Average5'])]\n",
    "})"
   ]
  },
  {
   "cell_type": "code",
   "execution_count": 50,
   "metadata": {},
   "outputs": [
    {
     "name": "stdout",
     "output_type": "stream",
     "text": [
      "Silhouette score Hierarchical Clustering with Average Linkage 3 cluster: 0.5538089226688662\n"
     ]
    }
   ],
   "source": [
    "print('Silhouette score Hierarchical Clustering with Average Linkage 3 cluster:', silhouette_score(X_scaled, df['Ward5']))\n",
    "# pakai 3 cluster karena melihat dari dendogramnya"
   ]
  },
  {
   "cell_type": "markdown",
   "metadata": {},
   "source": [
    "### **Interpretasi**\n",
    "\n",
    "Berdasarkan metode hierarchical/agglomerative clustering, didapat bahwa linkage average dengan jumlah 2 clusters adalah yang paling optimal untuk segmentasi customer pada kasus ini."
   ]
  },
  {
   "cell_type": "code",
   "execution_count": 51,
   "metadata": {},
   "outputs": [
    {
     "data": {
      "image/png": "[encoded data removed]",
      "text/plain": [
       "<Figure size 720x720 with 1 Axes>"
      ]
     },
     "metadata": {},
     "output_type": "display_data"
    }
   ],
   "source": [
    "# Plot Average\n",
    "plt.figure(figsize = (10, 10))\n",
    "# sns.set_context(context = 'notebook', font_scale=1.5)\n",
    "sns.scatterplot(\n",
    "    x = 'Annual Income', \n",
    "    y = 'Spending Score', \n",
    "    hue = 'Ward5',\n",
    "    data = df,\n",
    "    palette='bright')\n",
    "\n",
    "plt.xlabel('Annual Income')\n",
    "plt.ylabel('Spending Score (1-100)');"
   ]
  },
  {
   "cell_type": "code",
   "execution_count": null,
   "metadata": {},
   "outputs": [],
   "source": []
  },
  {
   "cell_type": "markdown",
   "metadata": {},
   "source": [
    "## **DBScan**\n",
    "\n",
    "Pros of DBSCAN\n",
    "- Tidak perlu menentukan jumlah cluster di awal\n",
    "- Dapat mengetahui outliers\n",
    "- Dapat menangkap pola tertentu (tidak beraturan)\n",
    "\n",
    "Cons of DBSCAN\n",
    "- Sulit mengidentifikasi cluster pada data yang densitynya terlalu bervariasi\n",
    "- Kurang baik pada high dimensional data\n",
    "- Sensitif terhadap epsilon dan min_samples"
   ]
  },
  {
   "cell_type": "code",
   "execution_count": 52,
   "metadata": {},
   "outputs": [],
   "source": [
    "# plt.figure(figsize=(15, 13))\n",
    "# sns.scatterplot(x='Annual Income', y='Spending Score', data=X_scaled)\n",
    "\n",
    "# plt.xlabel('Annual Income')\n",
    "# plt.ylabel('Spending Score (1-100)')\n",
    "\n",
    "# for i,txt in enumerate(range(0,X_scaled.shape[0]-1)):\n",
    "#     plt.annotate(txt, (X_scaled['Annual Income'][i], X_scaled['Spending Score'][i]), fontsize=10)"
   ]
  },
  {
   "cell_type": "markdown",
   "metadata": {},
   "source": [
    "**Optimizing epsilon & min_samples**"
   ]
  },
  {
   "cell_type": "code",
   "execution_count": 53,
   "metadata": {},
   "outputs": [
    {
     "data": {
      "text/plain": [
       "array([-1,  1,  0,  1, -1,  1,  0,  3,  0,  1,  2,  3,  2,  1,  2,  1,  4,\n",
       "       -1, -1,  3,  4,  1,  6,  1,  7,  5,  4, -1,  4,  5,  6,  1,  6, -1,\n",
       "        7,  5,  7,  1, -1,  1, -1, -1, -1,  8, -1,  8,  8,  8,  8,  8,  8,\n",
       "        8,  8,  8,  8,  8,  8,  8,  8,  8,  8,  8,  8,  8,  8,  8,  8,  8,\n",
       "        8,  8,  8,  8,  8,  8,  8,  8,  8,  8,  8,  8,  8,  8,  8,  8,  8,\n",
       "        8,  8,  8,  8,  8,  8,  8,  8,  8,  8,  8,  8,  8,  8,  8,  8,  8,\n",
       "        8,  8,  8,  8,  8,  8,  8,  8,  8,  8,  8,  8,  8,  8,  8,  8,  8,\n",
       "        8,  8,  8,  8,  9, -1,  9, -1,  9, 10,  9, 10,  9, -1,  9, 10,  9,\n",
       "       10,  9, 10,  9, 10,  9, 11,  9, 10,  9, 11,  9, 10,  9, 10,  9, 10,\n",
       "        9, 10,  9, 10,  9, 10,  9, 11,  9, 10,  9, -1, -1, -1, -1, -1, -1,\n",
       "       12, -1, 12, -1, 12, -1, 12, -1, 12, -1, -1, -1, 12, -1, -1, -1, -1,\n",
       "       -1, -1, -1, -1, -1, -1, -1, -1, -1, -1, -1, -1, -1], dtype=int64)"
      ]
     },
     "execution_count": 53,
     "metadata": {},
     "output_type": "execute_result"
    }
   ],
   "source": [
    "dbscan = DBSCAN(eps=0.2, min_samples=3)\n",
    "labels = dbscan.fit_predict(X_scaled)\n",
    "labels"
   ]
  },
  {
   "cell_type": "code",
   "execution_count": 54,
   "metadata": {},
   "outputs": [
    {
     "name": "stdout",
     "output_type": "stream",
     "text": [
      "Epsilon 0.2\n",
      "min_samples 4\n",
      "score:  0.19685111632552818\n",
      "[-1  0  1  2  3  4]\n",
      "[73  7 79 21 14  6]\n",
      "\n",
      "Epsilon 0.2\n",
      "min_samples 5\n",
      "score:  0.14057942679617555\n",
      "[-1  0  1  2  3  4  5  6]\n",
      "[77  6 78 11  9 10  4  5]\n",
      "\n",
      "Epsilon 0.2\n",
      "min_samples 6\n",
      "score:  0.09644483815713828\n",
      "[-1  0  1  2  3]\n",
      "[95 78 10  9  8]\n",
      "\n",
      "Epsilon 0.2\n",
      "min_samples 7\n",
      "score:  0.05559332249286136\n",
      "[-1  0  1  2  3]\n",
      "[100  78   8   7   7]\n",
      "\n",
      "Epsilon 0.3\n",
      "min_samples 4\n",
      "score:  0.3842796072825817\n",
      "[-1  0  1  2  3  4  5  6  7]\n",
      "[23 16  8  7 88 32 14  9  3]\n",
      "\n",
      "Epsilon 0.3\n",
      "min_samples 5\n",
      "score:  0.31614121976731185\n",
      "[-1  0  1  2  3  4  5  6]\n",
      "[35 12  5  7 88 30 14  9]\n",
      "\n",
      "Epsilon 0.3\n",
      "min_samples 6\n",
      "score:  0.24983531622925184\n",
      "[-1  0  1  2  3  4  5]\n",
      "[48 10  6 87 26 14  9]\n",
      "\n",
      "Epsilon 0.3\n",
      "min_samples 7\n",
      "score:  0.23146493255355374\n",
      "[-1  0  1  2  3]\n",
      "[72 10 82 24 12]\n",
      "\n",
      "Epsilon 0.4\n",
      "min_samples 4\n",
      "score:  0.39828449401818633\n",
      "[-1  0  1  2]\n",
      "[ 14 126  33  27]\n",
      "\n",
      "Epsilon 0.4\n",
      "min_samples 5\n",
      "score:  0.41325830390002166\n",
      "[-1  0  1  2  3]\n",
      "[ 15 115  11  32  27]\n",
      "\n",
      "Epsilon 0.4\n",
      "min_samples 6\n",
      "score:  0.4042821432758869\n",
      "[-1  0  1  2  3]\n",
      "[ 19 112  11  32  26]\n",
      "\n",
      "Epsilon 0.4\n",
      "min_samples 7\n",
      "score:  0.4043035202447902\n",
      "[-1  0  1  2  3]\n",
      "[ 20  12 111  31  26]\n",
      "\n",
      "Epsilon 0.5\n",
      "min_samples 4\n",
      "score:  0.35044619989666004\n",
      "[-1  0  1]\n",
      "[  8 157  35]\n",
      "\n",
      "Epsilon 0.5\n",
      "min_samples 5\n",
      "score:  0.35044619989666004\n",
      "[-1  0  1]\n",
      "[  8 157  35]\n",
      "\n",
      "Epsilon 0.5\n",
      "min_samples 6\n",
      "score:  0.3597246686657918\n",
      "[-1  0  1]\n",
      "[ 11 154  35]\n",
      "\n",
      "Epsilon 0.5\n",
      "min_samples 7\n",
      "score:  0.35261506078723714\n",
      "[-1  0  1]\n",
      "[ 12 154  34]\n",
      "\n"
     ]
    }
   ],
   "source": [
    "list_eps = [0.2, 0.3, 0.4, 0.5]\n",
    "list_min_samples = [4,5,6,7]\n",
    "\n",
    "list_sil = []\n",
    "epsilon = []\n",
    "min_sam = []\n",
    "member = []\n",
    "n_member = []\n",
    "\n",
    "\n",
    "for eps in list_eps:\n",
    "    for min_samples in list_min_samples:\n",
    "\n",
    "        # epsilon\n",
    "        print('Epsilon', eps)\n",
    "        epsilon.append(eps)\n",
    "\n",
    "        # min_samples\n",
    "        print('min_samples', min_samples)\n",
    "        min_sam.append(min_samples)\n",
    "\n",
    "        # fitting and labeling\n",
    "        dbscan = DBSCAN(eps=eps, min_samples=min_samples)\n",
    "        label_dbscan = dbscan.fit_predict(X_scaled)\n",
    "\n",
    "        # silhoutte score\n",
    "        list_sil.append(silhouette_score(X_scaled, label_dbscan))\n",
    "        print('score: ', silhouette_score(X_scaled, label_dbscan))\n",
    "\n",
    "        # cluster member\n",
    "        print(np.unique(label_dbscan))\n",
    "        print(np.bincount(label_dbscan+1))\n",
    "\n",
    "        member.append(np.unique(label_dbscan))\n",
    "        n_member.append(np.bincount(label_dbscan+1))\n",
    "\n",
    "        print()\n",
    "\n",
    "\n"
   ]
  },
  {
   "cell_type": "code",
   "execution_count": 55,
   "metadata": {},
   "outputs": [
    {
     "data": {
      "text/html": [
       "<div>\n",
       "<style scoped>\n",
       "    .dataframe tbody tr th:only-of-type {\n",
       "        vertical-align: middle;\n",
       "    }\n",
       "\n",
       "    .dataframe tbody tr th {\n",
       "        vertical-align: top;\n",
       "    }\n",
       "\n",
       "    .dataframe thead th {\n",
       "        text-align: right;\n",
       "    }\n",
       "</style>\n",
       "<table border=\"1\" class=\"dataframe\">\n",
       "  <thead>\n",
       "    <tr style=\"text-align: right;\">\n",
       "      <th></th>\n",
       "      <th>epsilon</th>\n",
       "      <th>min_samples</th>\n",
       "      <th>member</th>\n",
       "      <th>n_member</th>\n",
       "      <th>sil score</th>\n",
       "    </tr>\n",
       "  </thead>\n",
       "  <tbody>\n",
       "    <tr>\n",
       "      <th>3</th>\n",
       "      <td>0.2</td>\n",
       "      <td>7</td>\n",
       "      <td>[-1, 0, 1, 2, 3]</td>\n",
       "      <td>[100, 78, 8, 7, 7]</td>\n",
       "      <td>0.055593</td>\n",
       "    </tr>\n",
       "    <tr>\n",
       "      <th>2</th>\n",
       "      <td>0.2</td>\n",
       "      <td>6</td>\n",
       "      <td>[-1, 0, 1, 2, 3]</td>\n",
       "      <td>[95, 78, 10, 9, 8]</td>\n",
       "      <td>0.096445</td>\n",
       "    </tr>\n",
       "    <tr>\n",
       "      <th>1</th>\n",
       "      <td>0.2</td>\n",
       "      <td>5</td>\n",
       "      <td>[-1, 0, 1, 2, 3, 4, 5, 6]</td>\n",
       "      <td>[77, 6, 78, 11, 9, 10, 4, 5]</td>\n",
       "      <td>0.140579</td>\n",
       "    </tr>\n",
       "    <tr>\n",
       "      <th>0</th>\n",
       "      <td>0.2</td>\n",
       "      <td>4</td>\n",
       "      <td>[-1, 0, 1, 2, 3, 4]</td>\n",
       "      <td>[73, 7, 79, 21, 14, 6]</td>\n",
       "      <td>0.196851</td>\n",
       "    </tr>\n",
       "    <tr>\n",
       "      <th>7</th>\n",
       "      <td>0.3</td>\n",
       "      <td>7</td>\n",
       "      <td>[-1, 0, 1, 2, 3]</td>\n",
       "      <td>[72, 10, 82, 24, 12]</td>\n",
       "      <td>0.231465</td>\n",
       "    </tr>\n",
       "    <tr>\n",
       "      <th>6</th>\n",
       "      <td>0.3</td>\n",
       "      <td>6</td>\n",
       "      <td>[-1, 0, 1, 2, 3, 4, 5]</td>\n",
       "      <td>[48, 10, 6, 87, 26, 14, 9]</td>\n",
       "      <td>0.249835</td>\n",
       "    </tr>\n",
       "    <tr>\n",
       "      <th>5</th>\n",
       "      <td>0.3</td>\n",
       "      <td>5</td>\n",
       "      <td>[-1, 0, 1, 2, 3, 4, 5, 6]</td>\n",
       "      <td>[35, 12, 5, 7, 88, 30, 14, 9]</td>\n",
       "      <td>0.316141</td>\n",
       "    </tr>\n",
       "    <tr>\n",
       "      <th>12</th>\n",
       "      <td>0.5</td>\n",
       "      <td>4</td>\n",
       "      <td>[-1, 0, 1]</td>\n",
       "      <td>[8, 157, 35]</td>\n",
       "      <td>0.350446</td>\n",
       "    </tr>\n",
       "    <tr>\n",
       "      <th>13</th>\n",
       "      <td>0.5</td>\n",
       "      <td>5</td>\n",
       "      <td>[-1, 0, 1]</td>\n",
       "      <td>[8, 157, 35]</td>\n",
       "      <td>0.350446</td>\n",
       "    </tr>\n",
       "    <tr>\n",
       "      <th>15</th>\n",
       "      <td>0.5</td>\n",
       "      <td>7</td>\n",
       "      <td>[-1, 0, 1]</td>\n",
       "      <td>[12, 154, 34]</td>\n",
       "      <td>0.352615</td>\n",
       "    </tr>\n",
       "    <tr>\n",
       "      <th>14</th>\n",
       "      <td>0.5</td>\n",
       "      <td>6</td>\n",
       "      <td>[-1, 0, 1]</td>\n",
       "      <td>[11, 154, 35]</td>\n",
       "      <td>0.359725</td>\n",
       "    </tr>\n",
       "    <tr>\n",
       "      <th>4</th>\n",
       "      <td>0.3</td>\n",
       "      <td>4</td>\n",
       "      <td>[-1, 0, 1, 2, 3, 4, 5, 6, 7]</td>\n",
       "      <td>[23, 16, 8, 7, 88, 32, 14, 9, 3]</td>\n",
       "      <td>0.384280</td>\n",
       "    </tr>\n",
       "    <tr>\n",
       "      <th>8</th>\n",
       "      <td>0.4</td>\n",
       "      <td>4</td>\n",
       "      <td>[-1, 0, 1, 2]</td>\n",
       "      <td>[14, 126, 33, 27]</td>\n",
       "      <td>0.398284</td>\n",
       "    </tr>\n",
       "    <tr>\n",
       "      <th>10</th>\n",
       "      <td>0.4</td>\n",
       "      <td>6</td>\n",
       "      <td>[-1, 0, 1, 2, 3]</td>\n",
       "      <td>[19, 112, 11, 32, 26]</td>\n",
       "      <td>0.404282</td>\n",
       "    </tr>\n",
       "    <tr>\n",
       "      <th>11</th>\n",
       "      <td>0.4</td>\n",
       "      <td>7</td>\n",
       "      <td>[-1, 0, 1, 2, 3]</td>\n",
       "      <td>[20, 12, 111, 31, 26]</td>\n",
       "      <td>0.404304</td>\n",
       "    </tr>\n",
       "    <tr>\n",
       "      <th>9</th>\n",
       "      <td>0.4</td>\n",
       "      <td>5</td>\n",
       "      <td>[-1, 0, 1, 2, 3]</td>\n",
       "      <td>[15, 115, 11, 32, 27]</td>\n",
       "      <td>0.413258</td>\n",
       "    </tr>\n",
       "  </tbody>\n",
       "</table>\n",
       "</div>"
      ],
      "text/plain": [
       "    epsilon  min_samples                        member  \\\n",
       "3       0.2            7              [-1, 0, 1, 2, 3]   \n",
       "2       0.2            6              [-1, 0, 1, 2, 3]   \n",
       "1       0.2            5     [-1, 0, 1, 2, 3, 4, 5, 6]   \n",
       "0       0.2            4           [-1, 0, 1, 2, 3, 4]   \n",
       "7       0.3            7              [-1, 0, 1, 2, 3]   \n",
       "6       0.3            6        [-1, 0, 1, 2, 3, 4, 5]   \n",
       "5       0.3            5     [-1, 0, 1, 2, 3, 4, 5, 6]   \n",
       "12      0.5            4                    [-1, 0, 1]   \n",
       "13      0.5            5                    [-1, 0, 1]   \n",
       "15      0.5            7                    [-1, 0, 1]   \n",
       "14      0.5            6                    [-1, 0, 1]   \n",
       "4       0.3            4  [-1, 0, 1, 2, 3, 4, 5, 6, 7]   \n",
       "8       0.4            4                 [-1, 0, 1, 2]   \n",
       "10      0.4            6              [-1, 0, 1, 2, 3]   \n",
       "11      0.4            7              [-1, 0, 1, 2, 3]   \n",
       "9       0.4            5              [-1, 0, 1, 2, 3]   \n",
       "\n",
       "                            n_member  sil score  \n",
       "3                 [100, 78, 8, 7, 7]   0.055593  \n",
       "2                 [95, 78, 10, 9, 8]   0.096445  \n",
       "1       [77, 6, 78, 11, 9, 10, 4, 5]   0.140579  \n",
       "0             [73, 7, 79, 21, 14, 6]   0.196851  \n",
       "7               [72, 10, 82, 24, 12]   0.231465  \n",
       "6         [48, 10, 6, 87, 26, 14, 9]   0.249835  \n",
       "5      [35, 12, 5, 7, 88, 30, 14, 9]   0.316141  \n",
       "12                      [8, 157, 35]   0.350446  \n",
       "13                      [8, 157, 35]   0.350446  \n",
       "15                     [12, 154, 34]   0.352615  \n",
       "14                     [11, 154, 35]   0.359725  \n",
       "4   [23, 16, 8, 7, 88, 32, 14, 9, 3]   0.384280  \n",
       "8                  [14, 126, 33, 27]   0.398284  \n",
       "10             [19, 112, 11, 32, 26]   0.404282  \n",
       "11             [20, 12, 111, 31, 26]   0.404304  \n",
       "9              [15, 115, 11, 32, 27]   0.413258  "
      ]
     },
     "execution_count": 55,
     "metadata": {},
     "output_type": "execute_result"
    }
   ],
   "source": [
    "dbscan_result = pd.DataFrame({\n",
    "    'epsilon':epsilon,\n",
    "    'min_samples':min_sam,\n",
    "    'member': member,\n",
    "    'n_member': n_member,\n",
    "    'sil score': list_sil\n",
    "})\n",
    "\n",
    "dbscan_result.sort_values('sil score')"
   ]
  },
  {
   "cell_type": "markdown",
   "metadata": {},
   "source": [
    "### **Interpretasi**\n",
    "\n",
    "Dari berbagai kombinasi epsilon dan min_samples, pilihan terbaik yang dapat dipilih:\n",
    "- eps = 0.4 & min_samples = 5, silhouette score 0.413. Terdapat 15 noise.\n"
   ]
  },
  {
   "cell_type": "code",
   "execution_count": 56,
   "metadata": {},
   "outputs": [
    {
     "name": "stdout",
     "output_type": "stream",
     "text": [
      "cluster: \n",
      " [ 0  0  1  0  0  0  1 -1  1  0  1 -1  1  0  1  0  0  0  0 -1  0  0  1  0\n",
      "  1  0  0  0  0  0  1  0  1  0  1  0  0  0  0  0  0  0  0  0  0  0  0  0\n",
      "  0  0  0  0  0  0  0  0  0  0  0  0  0  0  0  0  0  0  0  0  0  0  0  0\n",
      "  0  0  0  0  0  0  0  0  0  0  0  0  0  0  0  0  0  0  0  0  0  0  0  0\n",
      "  0  0  0  0  0  0  0  0  0  0  0  0  0  0  0  0  0  0  0  0  0  0  0  0\n",
      "  0  0  0  2  0  2  0  2  3  2  3  2  0  2  3  2  3  2  3  2  3  2  0  2\n",
      "  3  2  0  2  3  2  3  2  3  2  3  2  3  2  3  2  0  2  3  2  3  2  3  2\n",
      "  3 -1  3  2  3  2  3  2  3  2  3  2  3  2  3  2 -1  2  3 -1  3  2  3 -1\n",
      " -1 -1 -1 -1 -1 -1 -1 -1]\n"
     ]
    }
   ],
   "source": [
    "# Fit DBScan\n",
    "dbscan = DBSCAN(eps=0.4, min_samples=5)\n",
    "clusters_dbs = dbscan.fit_predict(X_scaled)\n",
    "\n",
    "print('cluster: \\n',clusters_dbs)"
   ]
  },
  {
   "cell_type": "code",
   "execution_count": 57,
   "metadata": {},
   "outputs": [
    {
     "name": "stdout",
     "output_type": "stream",
     "text": [
      "Silhouette score DBScan: 0.41325830390002166\n"
     ]
    }
   ],
   "source": [
    "print('Silhouette score DBScan:', silhouette_score(X_scaled, clusters_dbs))"
   ]
  },
  {
   "cell_type": "code",
   "execution_count": 58,
   "metadata": {},
   "outputs": [
    {
     "data": {
      "text/html": [
       "<div>\n",
       "<style scoped>\n",
       "    .dataframe tbody tr th:only-of-type {\n",
       "        vertical-align: middle;\n",
       "    }\n",
       "\n",
       "    .dataframe tbody tr th {\n",
       "        vertical-align: top;\n",
       "    }\n",
       "\n",
       "    .dataframe thead th {\n",
       "        text-align: right;\n",
       "    }\n",
       "</style>\n",
       "<table border=\"1\" class=\"dataframe\">\n",
       "  <thead>\n",
       "    <tr style=\"text-align: right;\">\n",
       "      <th></th>\n",
       "      <th>Age</th>\n",
       "      <th>Annual Income</th>\n",
       "      <th>Spending Score</th>\n",
       "      <th>kmeans</th>\n",
       "      <th>Ward2</th>\n",
       "      <th>Complete2</th>\n",
       "      <th>Average2</th>\n",
       "      <th>Ward3</th>\n",
       "      <th>Complete3</th>\n",
       "      <th>Average3</th>\n",
       "      <th>Ward5</th>\n",
       "      <th>Complete5</th>\n",
       "      <th>Average5</th>\n",
       "      <th>DBSCAN</th>\n",
       "    </tr>\n",
       "  </thead>\n",
       "  <tbody>\n",
       "    <tr>\n",
       "      <th>0</th>\n",
       "      <td>19</td>\n",
       "      <td>15</td>\n",
       "      <td>39</td>\n",
       "      <td>4</td>\n",
       "      <td>0</td>\n",
       "      <td>1</td>\n",
       "      <td>0</td>\n",
       "      <td>0</td>\n",
       "      <td>0</td>\n",
       "      <td>0</td>\n",
       "      <td>4</td>\n",
       "      <td>1</td>\n",
       "      <td>1</td>\n",
       "      <td>0</td>\n",
       "    </tr>\n",
       "    <tr>\n",
       "      <th>1</th>\n",
       "      <td>21</td>\n",
       "      <td>15</td>\n",
       "      <td>81</td>\n",
       "      <td>3</td>\n",
       "      <td>0</td>\n",
       "      <td>1</td>\n",
       "      <td>0</td>\n",
       "      <td>0</td>\n",
       "      <td>0</td>\n",
       "      <td>0</td>\n",
       "      <td>3</td>\n",
       "      <td>3</td>\n",
       "      <td>3</td>\n",
       "      <td>0</td>\n",
       "    </tr>\n",
       "    <tr>\n",
       "      <th>2</th>\n",
       "      <td>20</td>\n",
       "      <td>16</td>\n",
       "      <td>6</td>\n",
       "      <td>4</td>\n",
       "      <td>0</td>\n",
       "      <td>1</td>\n",
       "      <td>0</td>\n",
       "      <td>0</td>\n",
       "      <td>0</td>\n",
       "      <td>0</td>\n",
       "      <td>4</td>\n",
       "      <td>1</td>\n",
       "      <td>1</td>\n",
       "      <td>1</td>\n",
       "    </tr>\n",
       "    <tr>\n",
       "      <th>3</th>\n",
       "      <td>23</td>\n",
       "      <td>16</td>\n",
       "      <td>77</td>\n",
       "      <td>3</td>\n",
       "      <td>0</td>\n",
       "      <td>1</td>\n",
       "      <td>0</td>\n",
       "      <td>0</td>\n",
       "      <td>0</td>\n",
       "      <td>0</td>\n",
       "      <td>3</td>\n",
       "      <td>3</td>\n",
       "      <td>3</td>\n",
       "      <td>0</td>\n",
       "    </tr>\n",
       "    <tr>\n",
       "      <th>4</th>\n",
       "      <td>31</td>\n",
       "      <td>17</td>\n",
       "      <td>40</td>\n",
       "      <td>4</td>\n",
       "      <td>0</td>\n",
       "      <td>1</td>\n",
       "      <td>0</td>\n",
       "      <td>0</td>\n",
       "      <td>0</td>\n",
       "      <td>0</td>\n",
       "      <td>4</td>\n",
       "      <td>1</td>\n",
       "      <td>1</td>\n",
       "      <td>0</td>\n",
       "    </tr>\n",
       "    <tr>\n",
       "      <th>5</th>\n",
       "      <td>22</td>\n",
       "      <td>17</td>\n",
       "      <td>76</td>\n",
       "      <td>3</td>\n",
       "      <td>0</td>\n",
       "      <td>1</td>\n",
       "      <td>0</td>\n",
       "      <td>0</td>\n",
       "      <td>0</td>\n",
       "      <td>0</td>\n",
       "      <td>3</td>\n",
       "      <td>3</td>\n",
       "      <td>3</td>\n",
       "      <td>0</td>\n",
       "    </tr>\n",
       "    <tr>\n",
       "      <th>6</th>\n",
       "      <td>35</td>\n",
       "      <td>18</td>\n",
       "      <td>6</td>\n",
       "      <td>4</td>\n",
       "      <td>0</td>\n",
       "      <td>1</td>\n",
       "      <td>0</td>\n",
       "      <td>0</td>\n",
       "      <td>0</td>\n",
       "      <td>0</td>\n",
       "      <td>4</td>\n",
       "      <td>1</td>\n",
       "      <td>1</td>\n",
       "      <td>1</td>\n",
       "    </tr>\n",
       "    <tr>\n",
       "      <th>7</th>\n",
       "      <td>23</td>\n",
       "      <td>18</td>\n",
       "      <td>94</td>\n",
       "      <td>3</td>\n",
       "      <td>0</td>\n",
       "      <td>1</td>\n",
       "      <td>0</td>\n",
       "      <td>0</td>\n",
       "      <td>0</td>\n",
       "      <td>0</td>\n",
       "      <td>3</td>\n",
       "      <td>3</td>\n",
       "      <td>3</td>\n",
       "      <td>-1</td>\n",
       "    </tr>\n",
       "    <tr>\n",
       "      <th>8</th>\n",
       "      <td>64</td>\n",
       "      <td>19</td>\n",
       "      <td>3</td>\n",
       "      <td>4</td>\n",
       "      <td>0</td>\n",
       "      <td>1</td>\n",
       "      <td>0</td>\n",
       "      <td>0</td>\n",
       "      <td>0</td>\n",
       "      <td>0</td>\n",
       "      <td>4</td>\n",
       "      <td>1</td>\n",
       "      <td>1</td>\n",
       "      <td>1</td>\n",
       "    </tr>\n",
       "    <tr>\n",
       "      <th>9</th>\n",
       "      <td>30</td>\n",
       "      <td>19</td>\n",
       "      <td>72</td>\n",
       "      <td>3</td>\n",
       "      <td>0</td>\n",
       "      <td>1</td>\n",
       "      <td>0</td>\n",
       "      <td>0</td>\n",
       "      <td>0</td>\n",
       "      <td>0</td>\n",
       "      <td>3</td>\n",
       "      <td>3</td>\n",
       "      <td>3</td>\n",
       "      <td>0</td>\n",
       "    </tr>\n",
       "  </tbody>\n",
       "</table>\n",
       "</div>"
      ],
      "text/plain": [
       "   Age  Annual Income  Spending Score  kmeans  Ward2  Complete2  Average2  \\\n",
       "0   19             15              39       4      0          1         0   \n",
       "1   21             15              81       3      0          1         0   \n",
       "2   20             16               6       4      0          1         0   \n",
       "3   23             16              77       3      0          1         0   \n",
       "4   31             17              40       4      0          1         0   \n",
       "5   22             17              76       3      0          1         0   \n",
       "6   35             18               6       4      0          1         0   \n",
       "7   23             18              94       3      0          1         0   \n",
       "8   64             19               3       4      0          1         0   \n",
       "9   30             19              72       3      0          1         0   \n",
       "\n",
       "   Ward3  Complete3  Average3  Ward5  Complete5  Average5  DBSCAN  \n",
       "0      0          0         0      4          1         1       0  \n",
       "1      0          0         0      3          3         3       0  \n",
       "2      0          0         0      4          1         1       1  \n",
       "3      0          0         0      3          3         3       0  \n",
       "4      0          0         0      4          1         1       0  \n",
       "5      0          0         0      3          3         3       0  \n",
       "6      0          0         0      4          1         1       1  \n",
       "7      0          0         0      3          3         3      -1  \n",
       "8      0          0         0      4          1         1       1  \n",
       "9      0          0         0      3          3         3       0  "
      ]
     },
     "execution_count": 58,
     "metadata": {},
     "output_type": "execute_result"
    }
   ],
   "source": [
    "df['DBSCAN'] = dbscan.labels_\n",
    "df.head(10)"
   ]
  },
  {
   "cell_type": "code",
   "execution_count": 59,
   "metadata": {},
   "outputs": [
    {
     "data": {
      "image/png": "[encoded data removed]",
      "text/plain": [
       "<Figure size 720x720 with 1 Axes>"
      ]
     },
     "metadata": {},
     "output_type": "display_data"
    }
   ],
   "source": [
    "# DBScan\n",
    "plt.figure(figsize = (10, 10))\n",
    "# sns.set_context(context = 'notebook', font_scale=1.5)\n",
    "sns.scatterplot(\n",
    "    x = 'Annual Income', \n",
    "    y = 'Spending Score', \n",
    "    hue = 'DBSCAN',\n",
    "    data = df,\n",
    "    palette='bright')\n",
    "\n",
    "plt.xlabel('Annual Income')\n",
    "plt.ylabel('Spending Score (1-100)');"
   ]
  },
  {
   "cell_type": "markdown",
   "metadata": {},
   "source": [
    "## **Summary**\n",
    "\n",
    "Dalam kasus segmentasi customer dengan menggunakan 2 features, yaitu 'Age' dan 'Spending Score', didapat bahwa metode K-Means menghasilkan hasil clustering yang paling optimal, jika ditinjau pada silhouette score yang didapat. \n",
    "\n",
    "Silhouette score:\n",
    "- Kmeans 5 clusters = 0.55\n",
    "- Hierarchical (Ward) 5 clusters = 0.55\n",
    "- DBSCAN 4 clusters = 0.41"
   ]
  },
  {
   "cell_type": "code",
   "execution_count": 60,
   "metadata": {},
   "outputs": [
    {
     "data": {
      "text/html": [
       "<div>\n",
       "<style scoped>\n",
       "    .dataframe tbody tr th:only-of-type {\n",
       "        vertical-align: middle;\n",
       "    }\n",
       "\n",
       "    .dataframe tbody tr th {\n",
       "        vertical-align: top;\n",
       "    }\n",
       "\n",
       "    .dataframe thead th {\n",
       "        text-align: right;\n",
       "    }\n",
       "</style>\n",
       "<table border=\"1\" class=\"dataframe\">\n",
       "  <thead>\n",
       "    <tr style=\"text-align: right;\">\n",
       "      <th></th>\n",
       "      <th>Age</th>\n",
       "      <th>Annual Income</th>\n",
       "      <th>Spending Score</th>\n",
       "      <th>kmeans</th>\n",
       "      <th>Ward2</th>\n",
       "      <th>Complete2</th>\n",
       "      <th>Average2</th>\n",
       "      <th>Ward3</th>\n",
       "      <th>Complete3</th>\n",
       "      <th>Average3</th>\n",
       "      <th>Ward5</th>\n",
       "      <th>Complete5</th>\n",
       "      <th>Average5</th>\n",
       "      <th>DBSCAN</th>\n",
       "    </tr>\n",
       "  </thead>\n",
       "  <tbody>\n",
       "    <tr>\n",
       "      <th>0</th>\n",
       "      <td>19</td>\n",
       "      <td>15</td>\n",
       "      <td>39</td>\n",
       "      <td>4</td>\n",
       "      <td>0</td>\n",
       "      <td>1</td>\n",
       "      <td>0</td>\n",
       "      <td>0</td>\n",
       "      <td>0</td>\n",
       "      <td>0</td>\n",
       "      <td>4</td>\n",
       "      <td>1</td>\n",
       "      <td>1</td>\n",
       "      <td>0</td>\n",
       "    </tr>\n",
       "    <tr>\n",
       "      <th>1</th>\n",
       "      <td>21</td>\n",
       "      <td>15</td>\n",
       "      <td>81</td>\n",
       "      <td>3</td>\n",
       "      <td>0</td>\n",
       "      <td>1</td>\n",
       "      <td>0</td>\n",
       "      <td>0</td>\n",
       "      <td>0</td>\n",
       "      <td>0</td>\n",
       "      <td>3</td>\n",
       "      <td>3</td>\n",
       "      <td>3</td>\n",
       "      <td>0</td>\n",
       "    </tr>\n",
       "    <tr>\n",
       "      <th>2</th>\n",
       "      <td>20</td>\n",
       "      <td>16</td>\n",
       "      <td>6</td>\n",
       "      <td>4</td>\n",
       "      <td>0</td>\n",
       "      <td>1</td>\n",
       "      <td>0</td>\n",
       "      <td>0</td>\n",
       "      <td>0</td>\n",
       "      <td>0</td>\n",
       "      <td>4</td>\n",
       "      <td>1</td>\n",
       "      <td>1</td>\n",
       "      <td>1</td>\n",
       "    </tr>\n",
       "  </tbody>\n",
       "</table>\n",
       "</div>"
      ],
      "text/plain": [
       "   Age  Annual Income  Spending Score  kmeans  Ward2  Complete2  Average2  \\\n",
       "0   19             15              39       4      0          1         0   \n",
       "1   21             15              81       3      0          1         0   \n",
       "2   20             16               6       4      0          1         0   \n",
       "\n",
       "   Ward3  Complete3  Average3  Ward5  Complete5  Average5  DBSCAN  \n",
       "0      0          0         0      4          1         1       0  \n",
       "1      0          0         0      3          3         3       0  \n",
       "2      0          0         0      4          1         1       1  "
      ]
     },
     "execution_count": 60,
     "metadata": {},
     "output_type": "execute_result"
    }
   ],
   "source": [
    "df.head(3)"
   ]
  },
  {
   "cell_type": "code",
   "execution_count": 61,
   "metadata": {},
   "outputs": [
    {
     "data": {
      "image/png": "[encoded data removed]",
      "text/plain": [
       "<Figure size 1440x504 with 3 Axes>"
      ]
     },
     "metadata": {},
     "output_type": "display_data"
    }
   ],
   "source": [
    "# Plotting the result\n",
    "plt.figure(figsize = (20, 7))\n",
    "# sns.set_context(context = 'notebook', font_scale=1.5)\n",
    "\n",
    "list_model = ['kmeans', 'Ward5', 'DBSCAN']\n",
    "plot_number = 1\n",
    "\n",
    "for model in list_model:\n",
    "\n",
    "    plt.subplot(1,3, plot_number)\n",
    "    sns.scatterplot(\n",
    "        x = 'Annual Income', \n",
    "        y = 'Spending Score', \n",
    "        hue = model,\n",
    "        data = df,\n",
    "        palette='bright')\n",
    "\n",
    "    plt.title(model)\n",
    "\n",
    "    plot_number += 1\n",
    "\n",
    "plt.tight_layout()\n",
    "plt.show()\n"
   ]
  },
  {
   "attachments": {},
   "cell_type": "markdown",
   "metadata": {},
   "source": [
    "Kita bisa ambil clustering Kmeans sebagai hasil terbaik.\n",
    "\n",
    "Terbentuk 5 cluster:\n",
    "1. Cluster 0: income sedang, spending sedang\n",
    "2. Cluster 1: income rendah, spending tinggi \n",
    "3. Cluster 2: income rendah, spending rendah\n",
    "4. Cluster 3: income tinggi, spending tinggi\n",
    "5. Cluster 4: income tinggi, spending rendah"
   ]
  }
 ],
 "metadata": {
  "kernelspec": {
   "display_name": "Python 3.10.4 ('pwdenv')",
   "language": "python",
   "name": "python3"
  },
  "language_info": {
   "codemirror_mode": {
    "name": "ipython",
    "version": 3
   },
   "file_extension": ".py",
   "mimetype": "text/x-python",
   "name": "python",
   "nbconvert_exporter": "python",
   "pygments_lexer": "ipython3",
   "version": "3.10.5"
  },
  "orig_nbformat": 4,
  "vscode": {
   "interpreter": {
    "hash": "26d83cb9ebc769f8a392797c85547e3220df367d4f886ed011b3f771d6a84444"
   }
  }
 },
 "nbformat": 4,
 "nbformat_minor": 2
}
